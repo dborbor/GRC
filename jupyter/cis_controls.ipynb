{
 "cells": [
  {
   "cell_type": "markdown",
   "metadata": {
    "collapsed": true,
    "pycharm": {
     "name": "#%% md\n"
    }
   },
   "source": [
    "# CIS Controls Visualization"
   ]
  },
  {
   "cell_type": "code",
   "execution_count": 30,
   "outputs": [
    {
     "data": {
      "text/html": "        <script type=\"text/javascript\">\n        window.PlotlyConfig = {MathJaxConfig: 'local'};\n        if (window.MathJax) {MathJax.Hub.Config({SVG: {font: \"STIX-Web\"}});}\n        if (typeof require !== 'undefined') {\n        require.undef(\"plotly\");\n        requirejs.config({\n            paths: {\n                'plotly': ['https://cdn.plot.ly/plotly-latest.min']\n            }\n        });\n        require(['plotly'], function(Plotly) {\n            window._Plotly = Plotly;\n        });\n        }\n        </script>\n        "
     },
     "metadata": {},
     "output_type": "display_data"
    },
    {
     "data": {
      "text/html": "        <script type=\"text/javascript\">\n        window.PlotlyConfig = {MathJaxConfig: 'local'};\n        if (window.MathJax) {MathJax.Hub.Config({SVG: {font: \"STIX-Web\"}});}\n        if (typeof require !== 'undefined') {\n        require.undef(\"plotly\");\n        requirejs.config({\n            paths: {\n                'plotly': ['https://cdn.plot.ly/plotly-latest.min']\n            }\n        });\n        require(['plotly'], function(Plotly) {\n            window._Plotly = Plotly;\n        });\n        }\n        </script>\n        "
     },
     "metadata": {},
     "output_type": "display_data"
    }
   ],
   "source": [
    "import os\n",
    "import pandas as pd\n",
    "import numpy as np\n",
    "import plotly.express as px\n",
    "import plotly.graph_objects as go\n",
    "import seaborn as sns\n",
    "import cufflinks as cf\n",
    "import chart_studio.plotly as py\n",
    "\n",
    "# configurable backend\n",
    "pd.options.plotting.backend = \"plotly\"\n",
    "\n",
    "# make sure plotly works with jupyter offline\n",
    "from plotly.offline import download_plotlyjs, init_notebook_mode, plot\n",
    "init_notebook_mode(connected=True)\n",
    "cf.go_offline()\n"
   ],
   "metadata": {
    "collapsed": false,
    "pycharm": {
     "name": "#%%\n"
    }
   }
  },
  {
   "cell_type": "code",
   "execution_count": 19,
   "outputs": [],
   "source": [
    "cis_controls_file = '../data/cis_set.xlsx'\n",
    "df_cis = pd.read_excel(cis_controls_file)"
   ],
   "metadata": {
    "collapsed": false,
    "pycharm": {
     "name": "#%%\n"
    }
   }
  },
  {
   "cell_type": "code",
   "execution_count": 23,
   "outputs": [],
   "source": [
    "# add a column called 'CIS Controls' with values containing the same strings\n",
    "# this will make the tree map outer most layer be called like that\n",
    "df_cis['CIS Controls'] = 'CIS Controls'\n",
    "\n",
    "cis_tree_map_categories = px.treemap(df_cis,\n",
    "                          path=['CIS Controls', 'Category', 'Subcategory', 'Implementation Group', 'Control', 'Comment'],\n",
    "                          # values='Mark',\n",
    "                          color='Mark',\n",
    "                          color_continuous_scale='RdBu',\n",
    "                          color_continuous_midpoint=np.average(df_cis['Mark']),\n",
    "                          )\n",
    "\n",
    "cis_tree_map_categories.layout.hovermode = False\n",
    "cis_tree_map_categories.layout.title = \"CIS Controls status separated by Categories\""
   ],
   "metadata": {
    "collapsed": false,
    "pycharm": {
     "name": "#%%\n"
    }
   }
  },
  {
   "cell_type": "code",
   "execution_count": 24,
   "outputs": [
    {
     "data": {
      "application/vnd.plotly.v1+json": {
       "config": {
        "plotlyServerURL": "https://plot.ly"
       },
       "data": [
        {
         "branchvalues": "total",
         "customdata": [
          [
           10.0
          ],
          [
           7.0
          ],
          [
           7.0
          ],
          [
           10.0
          ],
          [
           9.0
          ],
          [
           8.0
          ],
          [
           8.0
          ],
          [
           7.0
          ],
          [
           8.0
          ],
          [
           8.0
          ],
          [
           9.0
          ],
          [
           10.0
          ],
          [
           9.0
          ],
          [
           7.0
          ],
          [
           9.0
          ],
          [
           9.0
          ],
          [
           8.0
          ],
          [
           7.0
          ],
          [
           8.0
          ],
          [
           10.0
          ],
          [
           8.0
          ],
          [
           8.0
          ],
          [
           10.0
          ],
          [
           8.0
          ],
          [
           8.0
          ],
          [
           10.0
          ],
          [
           7.0
          ],
          [
           8.0
          ],
          [
           7.0
          ],
          [
           7.0
          ],
          [
           9.0
          ],
          [
           9.0
          ],
          [
           8.0
          ],
          [
           8.0
          ],
          [
           8.0
          ],
          [
           10.0
          ],
          [
           9.0
          ],
          [
           10.0
          ],
          [
           7.0
          ],
          [
           10.0
          ],
          [
           9.0
          ],
          [
           10.0
          ],
          [
           8.0
          ],
          [
           9.0
          ],
          [
           9.0
          ],
          [
           9.0
          ],
          [
           9.0
          ],
          [
           7.0
          ],
          [
           8.0
          ],
          [
           7.0
          ],
          [
           8.0
          ],
          [
           7.0
          ],
          [
           9.0
          ],
          [
           8.0
          ],
          [
           10.0
          ],
          [
           9.0
          ],
          [
           7.0
          ],
          [
           7.0
          ],
          [
           8.0
          ],
          [
           8.0
          ],
          [
           7.0
          ],
          [
           7.0
          ],
          [
           10.0
          ],
          [
           9.0
          ],
          [
           8.0
          ],
          [
           7.0
          ],
          [
           9.0
          ],
          [
           8.0
          ],
          [
           7.0
          ],
          [
           9.0
          ],
          [
           8.0
          ],
          [
           8.0
          ],
          [
           9.0
          ],
          [
           9.0
          ],
          [
           10.0
          ],
          [
           8.0
          ],
          [
           8.0
          ],
          [
           8.0
          ],
          [
           8.0
          ],
          [
           9.0
          ],
          [
           9.0
          ],
          [
           9.0
          ],
          [
           7.0
          ],
          [
           7.0
          ],
          [
           8.0
          ],
          [
           10.0
          ],
          [
           8.0
          ],
          [
           8.0
          ],
          [
           9.0
          ],
          [
           7.0
          ],
          [
           9.0
          ],
          [
           8.0
          ],
          [
           10.0
          ],
          [
           9.0
          ],
          [
           7.0
          ],
          [
           9.0
          ],
          [
           7.0
          ],
          [
           8.0
          ],
          [
           10.0
          ],
          [
           8.0
          ],
          [
           10.0
          ],
          [
           10.0
          ],
          [
           10.0
          ],
          [
           7.0
          ],
          [
           8.0
          ],
          [
           8.0
          ],
          [
           10.0
          ],
          [
           9.0
          ],
          [
           7.0
          ],
          [
           9.0
          ],
          [
           8.0
          ],
          [
           8.0
          ],
          [
           9.0
          ],
          [
           8.0
          ],
          [
           7.0
          ],
          [
           10.0
          ],
          [
           10.0
          ],
          [
           7.0
          ],
          [
           7.0
          ],
          [
           10.0
          ],
          [
           7.0
          ],
          [
           10.0
          ],
          [
           9.0
          ],
          [
           10.0
          ],
          [
           9.0
          ],
          [
           10.0
          ],
          [
           9.0
          ],
          [
           7.0
          ],
          [
           7.0
          ],
          [
           7.0
          ],
          [
           8.0
          ],
          [
           7.0
          ],
          [
           9.0
          ],
          [
           9.0
          ],
          [
           9.0
          ],
          [
           9.0
          ],
          [
           7.0
          ],
          [
           10.0
          ],
          [
           10.0
          ],
          [
           7.0
          ],
          [
           10.0
          ],
          [
           8.0
          ],
          [
           10.0
          ],
          [
           8.0
          ],
          [
           7.0
          ],
          [
           10.0
          ],
          [
           7.0
          ],
          [
           7.0
          ],
          [
           7.0
          ],
          [
           9.0
          ],
          [
           8.0
          ],
          [
           8.0
          ],
          [
           10.0
          ],
          [
           8.0
          ],
          [
           10.0
          ],
          [
           10.0
          ],
          [
           10.0
          ],
          [
           7.0
          ],
          [
           7.0
          ],
          [
           7.0
          ],
          [
           7.0
          ],
          [
           10.0
          ],
          [
           10.0
          ],
          [
           7.0
          ],
          [
           10.0
          ],
          [
           9.0
          ],
          [
           9.0
          ],
          [
           10.0
          ],
          [
           9.0
          ],
          [
           8.0
          ],
          [
           8.0
          ],
          [
           9.0
          ],
          [
           7.5
          ],
          [
           9.5
          ],
          [
           9.0
          ],
          [
           7.0
          ],
          [
           8.666666666666666
          ],
          [
           8.75
          ],
          [
           8.5
          ],
          [
           8.5
          ],
          [
           9.0
          ],
          [
           9.0
          ],
          [
           8.666666666666666
          ],
          [
           8.0
          ],
          [
           8.0
          ],
          [
           9.0
          ],
          [
           9.0
          ],
          [
           8.0
          ],
          [
           7.0
          ],
          [
           7.888888888888889
          ],
          [
           8.3
          ],
          [
           8.666666666666666
          ],
          [
           9.2
          ],
          [
           9.0
          ],
          [
           8.5
          ],
          [
           8.5
          ],
          [
           9.0
          ],
          [
           8.714285714285714
          ],
          [
           9.0
          ],
          [
           7.333333333333333
          ],
          [
           8.5
          ],
          [
           8.0
          ],
          [
           9.333333333333334
          ],
          [
           8.666666666666666
          ],
          [
           8.0
          ],
          [
           8.5
          ],
          [
           8.5
          ],
          [
           8.333333333333334
          ],
          [
           8.0
          ],
          [
           8.0
          ],
          [
           8.0
          ],
          [
           8.0
          ],
          [
           7.75
          ],
          [
           7.0
          ],
          [
           9.0
          ],
          [
           9.0
          ],
          [
           10.0
          ],
          [
           7.0
          ],
          [
           8.8
          ],
          [
           8.0
          ],
          [
           7.0
          ],
          [
           7.5
          ],
          [
           9.0
          ],
          [
           8.153846153846153
          ],
          [
           8.272727272727273
          ],
          [
           8.25
          ],
          [
           9.285714285714286
          ],
          [
           8.444444444444445
          ],
          [
           8.0
          ],
          [
           8.777777777777779
          ],
          [
           8.8
          ],
          [
           8.7
          ],
          [
           8.666666666666666
          ],
          [
           8.5
          ],
          [
           8.25
          ],
          [
           8.6
          ],
          [
           8.8
          ],
          [
           8.375
          ],
          [
           8.375
          ],
          [
           8.25
          ],
          [
           8.6
          ],
          [
           8.285714285714286
          ],
          [
           8.1
          ],
          [
           8.48936170212766
          ],
          [
           8.420454545454545
          ],
          [
           8.416666666666666
          ],
          [
           8.43859649122807
          ]
         ],
         "domain": {
          "x": [
           0.0,
           1.0
          ],
          "y": [
           0.0,
           1.0
          ]
         },
         "hovertemplate": "labels=%{label}<br>count=%{value}<br>parent=%{parent}<br>id=%{id}<br>Mark=%{color}<extra></extra>",
         "ids": [
          "CIS Controls/Basic Critical Controls/Inventory and Control of Hardware Assets/2/1.1 - Utilize an Active Discovery Tool",
          "CIS Controls/Basic Critical Controls/Inventory and Control of Hardware Assets/3/1.2 - Use a Passive Asset Discovery Tool",
          "CIS Controls/Basic Critical Controls/Inventory and Control of Hardware Assets/2/1.3 - Use DHCP Logging to Update Asset Inventory",
          "CIS Controls/Basic Critical Controls/Inventory and Control of Hardware Assets/1/1.4 - Maintain Detailed Asset Inventory",
          "CIS Controls/Basic Critical Controls/Inventory and Control of Hardware Assets/2/1.5 - Maintain Asset Inventory Information",
          "CIS Controls/Basic Critical Controls/Inventory and Control of Hardware Assets/1/1.6 - Address Unauthorized Assets",
          "CIS Controls/Basic Critical Controls/Inventory and Control of Hardware Assets/2/1.7 - Deploy Port Level Access Control",
          "CIS Controls/Basic Critical Controls/Inventory and Control of Hardware Assets/3/1.8 - Utilize Client Certificates to Authenticate Hardware Assets",
          "CIS Controls/Foundational Critical Controls/Data Recovery Capabilities/1/10.1 - Ensure Regular Automated BackUps",
          "CIS Controls/Foundational Critical Controls/Data Recovery Capabilities/1/10.2 - Perform Complete System Backups",
          "CIS Controls/Foundational Critical Controls/Data Recovery Capabilities/2/10.3 - Test Data on Backup Media",
          "CIS Controls/Foundational Critical Controls/Data Recovery Capabilities/1/10.4 - Protect Backups",
          "CIS Controls/Foundational Critical Controls/Data Recovery Capabilities/1/10.5 - Ensure All Backups Have at Least One Offline Backup Destination",
          "CIS Controls/Foundational Critical Controls/Secure Configuration for Network Devices, such as Firewalls, Routers and Switches/2/11.1 - Maintain Standard Security Configurations for Network Devices",
          "CIS Controls/Foundational Critical Controls/Secure Configuration for Network Devices, such as Firewalls, Routers and Switches/2/11.2 - Document Traffic Configuration Rules",
          "CIS Controls/Foundational Critical Controls/Secure Configuration for Network Devices, such as Firewalls, Routers and Switches/2/11.3 - Use Automated Tools to Verify Standard Device Configurations and Detect Changes",
          "CIS Controls/Foundational Critical Controls/Secure Configuration for Network Devices, such as Firewalls, Routers and Switches/1/11.4 - Install the Latest Stable Version of Any Security-Related Updates on All Network Devices",
          "CIS Controls/Foundational Critical Controls/Secure Configuration for Network Devices, such as Firewalls, Routers and Switches/2/11.5 - Manage Network Devices Using Multi-Factor Authentication and Encrypted Sessions",
          "CIS Controls/Foundational Critical Controls/Secure Configuration for Network Devices, such as Firewalls, Routers and Switches/2/11.6 - Use Dedicated Machines For All Network Administrative Tasks",
          "CIS Controls/Foundational Critical Controls/Secure Configuration for Network Devices, such as Firewalls, Routers and Switches/2/11.7 - Manage Network Infrastructure Through a Dedicated Network",
          "CIS Controls/Foundational Critical Controls/Boundary Defense/1/12.1 - Maintain an Inventory of Network Boundaries",
          "CIS Controls/Foundational Critical Controls/Boundary Defense/3/12.10 - Decrypt Network Traffic at Proxy",
          "CIS Controls/Foundational Critical Controls/Boundary Defense/2/12.11 - Require All Remote Login to Use Multi-Factor Authentication",
          "CIS Controls/Foundational Critical Controls/Boundary Defense/3/12.12 - Manage All Devices Remotely Logging into Internal Network",
          "CIS Controls/Foundational Critical Controls/Boundary Defense/2/12.2 - Scan for Unauthorized Connections Across Trusted Network Boundaries",
          "CIS Controls/Foundational Critical Controls/Boundary Defense/2/12.3 - Deny Communications With Known Malicious IP Addresses",
          "CIS Controls/Foundational Critical Controls/Boundary Defense/1/12.4 - Deny Communication Over Unauthorized Ports",
          "CIS Controls/Foundational Critical Controls/Boundary Defense/2/12.5 - Configure Monitoring Systems to Record Network Packets",
          "CIS Controls/Foundational Critical Controls/Boundary Defense/2/12.6 - Deploy Network-Based IDS Sensors",
          "CIS Controls/Foundational Critical Controls/Boundary Defense/3/12.7 - Deploy Network-Based Intrusion Prevention Systems",
          "CIS Controls/Foundational Critical Controls/Boundary Defense/2/12.8 - Deploy NetFlow Collection on Networking Boundary Devices",
          "CIS Controls/Foundational Critical Controls/Boundary Defense/3/12.9 - Deploy Application Layer Filtering Proxy Server",
          "CIS Controls/Foundational Critical Controls/Data Protection/1/13.1 - Maintain an Inventory of Sensitive Information",
          "CIS Controls/Foundational Critical Controls/Data Protection/1/13.2 - Remove Sensitive Data or Systems Not Regularly Accessed by Organization",
          "CIS Controls/Foundational Critical Controls/Data Protection/3/13.3 - Monitor and Block Unauthorized Network Traffic",
          "CIS Controls/Foundational Critical Controls/Data Protection/2/13.4 - Only Allow Access to Authorized Cloud Storage or Email Providers",
          "CIS Controls/Foundational Critical Controls/Data Protection/3/13.5 - Monitor and Detect Any Unauthorized Use of Encryption",
          "CIS Controls/Foundational Critical Controls/Data Protection/1/13.6 - Encrypt Mobile Device Data",
          "CIS Controls/Foundational Critical Controls/Data Protection/2/13.7 - Manage USB Devices",
          "CIS Controls/Foundational Critical Controls/Data Protection/3/13.8 - Manage System's External Removable Media's Read/Write Configurations",
          "CIS Controls/Foundational Critical Controls/Data Protection/3/13.9 - Encrypt Data on USB Storage Devices",
          "CIS Controls/Foundational Critical Controls/Controlled Access Based on the Need to Know/2/14.1 - Segment the Network Based on Sensitivity",
          "CIS Controls/Foundational Critical Controls/Controlled Access Based on the Need to Know/2/14.2 - Enable Firewall Filtering Between VLANs",
          "CIS Controls/Foundational Critical Controls/Controlled Access Based on the Need to Know/2/14.3 - Disable Workstation to Workstation Communication",
          "CIS Controls/Foundational Critical Controls/Controlled Access Based on the Need to Know/2/14.4 - Encrypt All Sensitive Information in Transit",
          "CIS Controls/Foundational Critical Controls/Controlled Access Based on the Need to Know/3/14.5 - Utilize an Active Discovery Tool to Identify Sensitive Data",
          "CIS Controls/Foundational Critical Controls/Controlled Access Based on the Need to Know/1/14.6 - Protect Information Through Access Control Lists",
          "CIS Controls/Foundational Critical Controls/Controlled Access Based on the Need to Know/3/14.7 - Enforce Access Control to Data Through Automated Tools",
          "CIS Controls/Foundational Critical Controls/Controlled Access Based on the Need to Know/3/14.8 - Encrypt Sensitive Information at Rest",
          "CIS Controls/Foundational Critical Controls/Controlled Access Based on the Need to Know/3/14.9 - Enforce Detail Logging for Access or Changes to Sensitive Data",
          "CIS Controls/Foundational Critical Controls/Wireless Access Control/2/15.1 - Maintain an Inventory of Authorized Wireless Access Points",
          "CIS Controls/Foundational Critical Controls/Wireless Access Control/1/15.10 - Create Separate Wireless Network for Personal and Untrusted Devices",
          "CIS Controls/Foundational Critical Controls/Wireless Access Control/2/15.2 - Detect Wireless Access Points Connected to the Wired Network",
          "CIS Controls/Foundational Critical Controls/Wireless Access Control/2/15.3 - Use a Wireless Intrusion Detection System",
          "CIS Controls/Foundational Critical Controls/Wireless Access Control/3/15.4 - Disable Wireless Access on Devices if Not Required",
          "CIS Controls/Foundational Critical Controls/Wireless Access Control/3/15.5 - Limit Wireless Access on Client Devices",
          "CIS Controls/Foundational Critical Controls/Wireless Access Control/2/15.6 - Disable Peer-to-Peer Wireless Network Capabilities on Wireless Clients",
          "CIS Controls/Foundational Critical Controls/Wireless Access Control/1/15.7 - Leverage the Advanced Encryption Standard (AES) to Encrypt Wireless Data",
          "CIS Controls/Foundational Critical Controls/Wireless Access Control/3/15.8 - Use Wireless Authentication Protocols That Require Mutual, Multi-Factor Authentication",
          "CIS Controls/Foundational Critical Controls/Wireless Access Control/2/15.9 - Disable Wireless Peripheral Access of Devices",
          "CIS Controls/Foundational Critical Controls/Account Monitoring and Control/2/16.1 - Maintain an Inventory of Authentication Systems",
          "CIS Controls/Foundational Critical Controls/Account Monitoring and Control/2/16.10 - Ensure All Accounts Have An Expiration Date",
          "CIS Controls/Foundational Critical Controls/Account Monitoring and Control/1/16.11 - Lock Workstation Sessions After Inactivity",
          "CIS Controls/Foundational Critical Controls/Account Monitoring and Control/2/16.12 - Monitor Attempts to Access Deactivated Accounts",
          "CIS Controls/Foundational Critical Controls/Account Monitoring and Control/3/16.13 - Alert on Account Login Behavior Deviation",
          "CIS Controls/Foundational Critical Controls/Account Monitoring and Control/2/16.2 - Configure Centralized Point of Authentication",
          "CIS Controls/Foundational Critical Controls/Account Monitoring and Control/2/16.3 - Require Multi-Factor Authentication",
          "CIS Controls/Foundational Critical Controls/Account Monitoring and Control/2/16.4 - Encrypt or Hash all Authentication Credentials",
          "CIS Controls/Foundational Critical Controls/Account Monitoring and Control/2/16.5 - Encrypt Transmittal of Username and Authentication Credentials",
          "CIS Controls/Foundational Critical Controls/Account Monitoring and Control/2/16.6 - Maintain an Inventory of Accounts",
          "CIS Controls/Foundational Critical Controls/Account Monitoring and Control/2/16.7 - Establish Process for Revoking Access",
          "CIS Controls/Foundational Critical Controls/Account Monitoring and Control/1/16.8 - Disable Any Unassociated Accounts",
          "CIS Controls/Foundational Critical Controls/Account Monitoring and Control/1/16.9 - Disable Dormant Accounts",
          "CIS Controls/Organizational Critical Controls/Implement a Security Awareness and Training Program/2/17.1 - Perform a Skills Gap Analysis",
          "CIS Controls/Organizational Critical Controls/Implement a Security Awareness and Training Program/2/17.2 - Deliver Training to Fill the Skills Gap",
          "CIS Controls/Organizational Critical Controls/Implement a Security Awareness and Training Program/1/17.3 - Implement a Security Awareness Program",
          "CIS Controls/Organizational Critical Controls/Implement a Security Awareness and Training Program/2/17.4 - Update Awareness Content Frequently",
          "CIS Controls/Organizational Critical Controls/Implement a Security Awareness and Training Program/1/17.5 - Train Workforce on Secure Authentication",
          "CIS Controls/Organizational Critical Controls/Implement a Security Awareness and Training Program/1/17.6 - Train Workforce on Identifying Social Engineering Attacks",
          "CIS Controls/Organizational Critical Controls/Implement a Security Awareness and Training Program/1/17.7 - Train Workforce on Sensitive Data Handling",
          "CIS Controls/Organizational Critical Controls/Implement a Security Awareness and Training Program/1/17.8 - Train Workforce on Causes of Unintentional Data Exposure",
          "CIS Controls/Organizational Critical Controls/Implement a Security Awareness and Training Program/1/17.9 - Train Workforce Members on Identifying and Reporting Incidents",
          "CIS Controls/Organizational Critical Controls/Application Software Security/2/18.1 - Deploy Web Application Firewalls",
          "CIS Controls/Organizational Critical Controls/Application Software Security/2/18.1 - Establish Secure Coding Practices",
          "CIS Controls/Organizational Critical Controls/Application Software Security/2/18.11 - Use Standard Hardening Configuration Templates for Databases",
          "CIS Controls/Organizational Critical Controls/Application Software Security/2/18.2 - Ensure That Explicit Error Checking is Performed for All In-House Developed Software",
          "CIS Controls/Organizational Critical Controls/Application Software Security/2/18.3 - Verify That Acquired Software is Still Supported",
          "CIS Controls/Organizational Critical Controls/Application Software Security/3/18.4 - Only Use Up-to-Date and Trusted Third-Party Components",
          "CIS Controls/Organizational Critical Controls/Application Software Security/2/18.5 - Use Only Standardized and Extensively Reviewed Encryption Algorithms",
          "CIS Controls/Organizational Critical Controls/Application Software Security/2/18.6 - Ensure Software Development Personnel are Trained in Secure Coding",
          "CIS Controls/Organizational Critical Controls/Application Software Security/2/18.7 - Apply Static and Dynamic Code Analysis Tools",
          "CIS Controls/Organizational Critical Controls/Application Software Security/2/18.8 - Establish a Process to Accept and Address Reports of Software Vulnerabilities",
          "CIS Controls/Organizational Critical Controls/Application Software Security/2/18.9 - Separate Production and Non-Production Systems",
          "CIS Controls/Organizational Critical Controls/Incident Response and Management/1/19.1 - Document Incident Response Procedures",
          "CIS Controls/Organizational Critical Controls/Incident Response and Management/2/19.2 - Assign Job Titles and Duties for Incident Response",
          "CIS Controls/Organizational Critical Controls/Incident Response and Management/1/19.3 - Designate Management Personnel to Support Incident Handling",
          "CIS Controls/Organizational Critical Controls/Incident Response and Management/2/19.4 - Devise Organization-wide Standards for Reporting Incidents",
          "CIS Controls/Organizational Critical Controls/Incident Response and Management/1/19.5 - Maintain Contact Information For Reporting Security Incidents",
          "CIS Controls/Organizational Critical Controls/Incident Response and Management/1/19.6 - Publish Information Regarding Reporting Computer Anomalies and Incidents",
          "CIS Controls/Organizational Critical Controls/Incident Response and Management/2/19.7 - Conduct Periodic Incident Scenario Sessions for Personnel",
          "CIS Controls/Organizational Critical Controls/Incident Response and Management/3/19.8 - Create Incident Scoring and Prioritization Schema",
          "CIS Controls/Basic Critical Controls/Inventory and Control of Software Assets/1/2.1 - Maintain authorized software inventory",
          "CIS Controls/Basic Critical Controls/Inventory and Control of Software Assets/3/2.10 - Physically or Logically Segregate High Risk Applications",
          "CIS Controls/Basic Critical Controls/Inventory and Control of Software Assets/1/2.2 - Ensure Software is Supported by Vendor",
          "CIS Controls/Basic Critical Controls/Inventory and Control of Software Assets/2/2.3 - Utilize Software Inventory Tools",
          "CIS Controls/Basic Critical Controls/Inventory and Control of Software Assets/2/2.4 - Track Software Inventory Information",
          "CIS Controls/Basic Critical Controls/Inventory and Control of Software Assets/3/2.5 - Integrate Software and Hardware Asset Inventories",
          "CIS Controls/Basic Critical Controls/Inventory and Control of Software Assets/1/2.6 - Address unapproved software",
          "CIS Controls/Basic Critical Controls/Inventory and Control of Software Assets/3/2.7 - Utilize Application Whitelisting",
          "CIS Controls/Basic Critical Controls/Inventory and Control of Software Assets/3/2.8 - Implement Application Whitelisting of Libraries",
          "CIS Controls/Basic Critical Controls/Inventory and Control of Software Assets/3/2.9 - Implement Application Whitelisting of Scripts",
          "CIS Controls/Organizational Critical Controls/Penetration Tests and Red Team Exercises/2/20.1 - Establish a Penetration Testing Program",
          "CIS Controls/Organizational Critical Controls/Penetration Tests and Red Team Exercises/2/20.2 - Conduct Regular External and Internal Penetration Tests",
          "CIS Controls/Organizational Critical Controls/Penetration Tests and Red Team Exercises/3/20.3 - Perform Periodic Red Team Exercises",
          "CIS Controls/Organizational Critical Controls/Penetration Tests and Red Team Exercises/2/20.4 - Include Tests for Presence of Unprotected System Information and Artifacts",
          "CIS Controls/Organizational Critical Controls/Penetration Tests and Red Team Exercises/2/20.5 - Create Test Bed for Elements Not Typically Tested in Production",
          "CIS Controls/Organizational Critical Controls/Penetration Tests and Red Team Exercises/2/20.6 - Use Vulnerability Scanning and Penetration Testing Tools in Concert",
          "CIS Controls/Organizational Critical Controls/Penetration Tests and Red Team Exercises/3/20.7 - Ensure Results from Penetration Test are Documented Using Open, Machine-readable Standards",
          "CIS Controls/Organizational Critical Controls/Penetration Tests and Red Team Exercises/2/20.8 - Control and Monitor Accounts Associated with Penetration Testing",
          "CIS Controls/Basic Critical Controls/Continuous Vulnerability Management/2/3.1 - Run Automated Vulnerability Scanning Tools",
          "CIS Controls/Basic Critical Controls/Continuous Vulnerability Management/2/3.2 - Perform Authenticated Vulnerability Scanning",
          "CIS Controls/Basic Critical Controls/Continuous Vulnerability Management/2/3.3 - Protect Dedicated Assessment Accounts",
          "CIS Controls/Basic Critical Controls/Continuous Vulnerability Management/1/3.4 - Deploy Automated Operating System Patch Management Tools",
          "CIS Controls/Basic Critical Controls/Continuous Vulnerability Management/1/3.5 - Deploy Automated Software Patch Management Tools",
          "CIS Controls/Basic Critical Controls/Continuous Vulnerability Management/2/3.6 - Compare Back-to-Back Vulnerability Scans",
          "CIS Controls/Basic Critical Controls/Continuous Vulnerability Management/2/3.7 - Utilize a Risk-Rating Process",
          "CIS Controls/Basic Critical Controls/Controlled Use of Administrative Privileges/2/4.1 - Maintain Inventory of Administrative Accounts",
          "CIS Controls/Basic Critical Controls/Controlled Use of Administrative Privileges/1/4.2 - Change Default Passwords",
          "CIS Controls/Basic Critical Controls/Controlled Use of Administrative Privileges/1/4.3 - Ensure the Use of Dedicated Administrative Accounts",
          "CIS Controls/Basic Critical Controls/Controlled Use of Administrative Privileges/2/4.4 - Use Unique Passwords",
          "CIS Controls/Basic Critical Controls/Controlled Use of Administrative Privileges/2/4.5 - Use Multi-Factor Authentication for All Administrative Access",
          "CIS Controls/Basic Critical Controls/Controlled Use of Administrative Privileges/3/4.6 - Use Dedicated Workstations For All Administrative Tasks",
          "CIS Controls/Basic Critical Controls/Controlled Use of Administrative Privileges/2/4.7 - Limit Access to Script Tools",
          "CIS Controls/Basic Critical Controls/Controlled Use of Administrative Privileges/2/4.8 - Log and Alert on Changes to Administrative Group Membership",
          "CIS Controls/Basic Critical Controls/Controlled Use of Administrative Privileges/2/4.9 - Log and Alert on Unsuccessful Administrative Account Login",
          "CIS Controls/Basic Critical Controls/Secure Configuration for Hardware and Software on Mobile Devices, Laptops, Workstations and Servers/1/5.1 - Establish Secure Configurations",
          "CIS Controls/Basic Critical Controls/Secure Configuration for Hardware and Software on Mobile Devices, Laptops, Workstations and Servers/2/5.2 - Maintain Secure Images",
          "CIS Controls/Basic Critical Controls/Secure Configuration for Hardware and Software on Mobile Devices, Laptops, Workstations and Servers/2/5.3 - Securely Store Master Images",
          "CIS Controls/Basic Critical Controls/Secure Configuration for Hardware and Software on Mobile Devices, Laptops, Workstations and Servers/2/5.4 - Deploy System Configuration Management Tools",
          "CIS Controls/Basic Critical Controls/Secure Configuration for Hardware and Software on Mobile Devices, Laptops, Workstations and Servers/2/5.5 - Implement Automated Configuration Monitoring Systems",
          "CIS Controls/Basic Critical Controls/Maintenance, Monitoring and Analysis of Audit Logs/2/6.1 - Utilize Three Synchronized Time Sources",
          "CIS Controls/Basic Critical Controls/Maintenance, Monitoring and Analysis of Audit Logs/1/6.2 - Activate Audit Logging",
          "CIS Controls/Basic Critical Controls/Maintenance, Monitoring and Analysis of Audit Logs/2/6.3 - Enable Detailed Logging",
          "CIS Controls/Basic Critical Controls/Maintenance, Monitoring and Analysis of Audit Logs/2/6.4 - Ensure Adequate Storage for Logs",
          "CIS Controls/Basic Critical Controls/Maintenance, Monitoring and Analysis of Audit Logs/2/6.5 - Central Log Management",
          "CIS Controls/Basic Critical Controls/Maintenance, Monitoring and Analysis of Audit Logs/2/6.6 - Deploy SIEM or Log Analytic Tools",
          "CIS Controls/Basic Critical Controls/Maintenance, Monitoring and Analysis of Audit Logs/2/6.7 - Regularly Review Logs",
          "CIS Controls/Basic Critical Controls/Maintenance, Monitoring and Analysis of Audit Logs/3/6.8 - Regularly Tune SIEM",
          "CIS Controls/Foundational Critical Controls/Email and Web Browser Protections/1/7.1 - Ensure Use of Only Fully Supported Browsers and Email Clients",
          "CIS Controls/Foundational Critical Controls/Email and Web Browser Protections/3/7.10 - Sandbox All Email Attachments",
          "CIS Controls/Foundational Critical Controls/Email and Web Browser Protections/2/7.2 - Disable Unnecessary or Unauthorized Browser or Email Client Plugins",
          "CIS Controls/Foundational Critical Controls/Email and Web Browser Protections/2/7.3 - Limit Use of Scripting Languages in Web Browsers and Email Clients",
          "CIS Controls/Foundational Critical Controls/Email and Web Browser Protections/2/7.4 - Maintain and Enforce Network-Based URL Filters",
          "CIS Controls/Foundational Critical Controls/Email and Web Browser Protections/2/7.5 - Subscribe to URL-Categorization Service",
          "CIS Controls/Foundational Critical Controls/Email and Web Browser Protections/2/7.6 - Log All URL requester",
          "CIS Controls/Foundational Critical Controls/Email and Web Browser Protections/1/7.7 - Use of DNS Filtering Services",
          "CIS Controls/Foundational Critical Controls/Email and Web Browser Protections/2/7.8 - Implement DMARC and Enable Receiver-Side Verification",
          "CIS Controls/Foundational Critical Controls/Email and Web Browser Protections/2/7.9 - Block Unnecessary File Types",
          "CIS Controls/Foundational Critical Controls/Malware Defenses/2/8.1 - Utilize Centrally Managed Anti-malware Software",
          "CIS Controls/Foundational Critical Controls/Malware Defenses/1/8.2 - Ensure Anti-Malware Software and Signatures Are Updated",
          "CIS Controls/Foundational Critical Controls/Malware Defenses/2/8.3 - Enable Operating System Anti-Exploitation Features/Deploy Anti-Exploit Technologies",
          "CIS Controls/Foundational Critical Controls/Malware Defenses/1/8.4 - Configure Anti-Malware Scanning of Removable Devices",
          "CIS Controls/Foundational Critical Controls/Malware Defenses/1/8.5 - Configure Devices to Not Auto-Run Content",
          "CIS Controls/Foundational Critical Controls/Malware Defenses/2/8.6 - Centralize Anti-Malware Logging",
          "CIS Controls/Foundational Critical Controls/Malware Defenses/2/8.7 - Enable DNS Query Logging",
          "CIS Controls/Foundational Critical Controls/Malware Defenses/2/8.8 - Enable Command-Line Audit Logging",
          "CIS Controls/Foundational Critical Controls/Limitation and Control of Network Ports, Protocols, and Services/2/9.1 - Associate Active Ports, Services, and Protocols to Asset Inventory",
          "CIS Controls/Foundational Critical Controls/Limitation and Control of Network Ports, Protocols, and Services/2/9.2 - Ensure Only Approved Ports, Protocols, and Services Are Running",
          "CIS Controls/Foundational Critical Controls/Limitation and Control of Network Ports, Protocols, and Services/2/9.3 - Perform Regular Automated Port Scans",
          "CIS Controls/Foundational Critical Controls/Limitation and Control of Network Ports, Protocols, and Services/1/9.4 - Apply Host-Based Firewalls or Port-Filtering",
          "CIS Controls/Foundational Critical Controls/Limitation and Control of Network Ports, Protocols, and Services/3/9.5 - Implement Application Firewalls",
          "CIS Controls/Foundational Critical Controls/Account Monitoring and Control/1",
          "CIS Controls/Foundational Critical Controls/Boundary Defense/1",
          "CIS Controls/Basic Critical Controls/Continuous Vulnerability Management/1",
          "CIS Controls/Foundational Critical Controls/Controlled Access Based on the Need to Know/1",
          "CIS Controls/Basic Critical Controls/Controlled Use of Administrative Privileges/1",
          "CIS Controls/Foundational Critical Controls/Data Protection/1",
          "CIS Controls/Foundational Critical Controls/Data Recovery Capabilities/1",
          "CIS Controls/Foundational Critical Controls/Email and Web Browser Protections/1",
          "CIS Controls/Organizational Critical Controls/Implement a Security Awareness and Training Program/1",
          "CIS Controls/Organizational Critical Controls/Incident Response and Management/1",
          "CIS Controls/Basic Critical Controls/Inventory and Control of Hardware Assets/1",
          "CIS Controls/Basic Critical Controls/Inventory and Control of Software Assets/1",
          "CIS Controls/Foundational Critical Controls/Limitation and Control of Network Ports, Protocols, and Services/1",
          "CIS Controls/Basic Critical Controls/Maintenance, Monitoring and Analysis of Audit Logs/1",
          "CIS Controls/Foundational Critical Controls/Malware Defenses/1",
          "CIS Controls/Basic Critical Controls/Secure Configuration for Hardware and Software on Mobile Devices, Laptops, Workstations and Servers/1",
          "CIS Controls/Foundational Critical Controls/Secure Configuration for Network Devices, such as Firewalls, Routers and Switches/1",
          "CIS Controls/Foundational Critical Controls/Wireless Access Control/1",
          "CIS Controls/Foundational Critical Controls/Account Monitoring and Control/2",
          "CIS Controls/Organizational Critical Controls/Application Software Security/2",
          "CIS Controls/Foundational Critical Controls/Boundary Defense/2",
          "CIS Controls/Basic Critical Controls/Continuous Vulnerability Management/2",
          "CIS Controls/Foundational Critical Controls/Controlled Access Based on the Need to Know/2",
          "CIS Controls/Basic Critical Controls/Controlled Use of Administrative Privileges/2",
          "CIS Controls/Foundational Critical Controls/Data Protection/2",
          "CIS Controls/Foundational Critical Controls/Data Recovery Capabilities/2",
          "CIS Controls/Foundational Critical Controls/Email and Web Browser Protections/2",
          "CIS Controls/Organizational Critical Controls/Implement a Security Awareness and Training Program/2",
          "CIS Controls/Organizational Critical Controls/Incident Response and Management/2",
          "CIS Controls/Basic Critical Controls/Inventory and Control of Hardware Assets/2",
          "CIS Controls/Basic Critical Controls/Inventory and Control of Software Assets/2",
          "CIS Controls/Foundational Critical Controls/Limitation and Control of Network Ports, Protocols, and Services/2",
          "CIS Controls/Basic Critical Controls/Maintenance, Monitoring and Analysis of Audit Logs/2",
          "CIS Controls/Foundational Critical Controls/Malware Defenses/2",
          "CIS Controls/Organizational Critical Controls/Penetration Tests and Red Team Exercises/2",
          "CIS Controls/Basic Critical Controls/Secure Configuration for Hardware and Software on Mobile Devices, Laptops, Workstations and Servers/2",
          "CIS Controls/Foundational Critical Controls/Secure Configuration for Network Devices, such as Firewalls, Routers and Switches/2",
          "CIS Controls/Foundational Critical Controls/Wireless Access Control/2",
          "CIS Controls/Foundational Critical Controls/Account Monitoring and Control/3",
          "CIS Controls/Organizational Critical Controls/Application Software Security/3",
          "CIS Controls/Foundational Critical Controls/Boundary Defense/3",
          "CIS Controls/Foundational Critical Controls/Controlled Access Based on the Need to Know/3",
          "CIS Controls/Basic Critical Controls/Controlled Use of Administrative Privileges/3",
          "CIS Controls/Foundational Critical Controls/Data Protection/3",
          "CIS Controls/Foundational Critical Controls/Email and Web Browser Protections/3",
          "CIS Controls/Organizational Critical Controls/Incident Response and Management/3",
          "CIS Controls/Basic Critical Controls/Inventory and Control of Hardware Assets/3",
          "CIS Controls/Basic Critical Controls/Inventory and Control of Software Assets/3",
          "CIS Controls/Foundational Critical Controls/Limitation and Control of Network Ports, Protocols, and Services/3",
          "CIS Controls/Basic Critical Controls/Maintenance, Monitoring and Analysis of Audit Logs/3",
          "CIS Controls/Organizational Critical Controls/Penetration Tests and Red Team Exercises/3",
          "CIS Controls/Foundational Critical Controls/Wireless Access Control/3",
          "CIS Controls/Foundational Critical Controls/Account Monitoring and Control",
          "CIS Controls/Organizational Critical Controls/Application Software Security",
          "CIS Controls/Foundational Critical Controls/Boundary Defense",
          "CIS Controls/Basic Critical Controls/Continuous Vulnerability Management",
          "CIS Controls/Foundational Critical Controls/Controlled Access Based on the Need to Know",
          "CIS Controls/Basic Critical Controls/Controlled Use of Administrative Privileges",
          "CIS Controls/Foundational Critical Controls/Data Protection",
          "CIS Controls/Foundational Critical Controls/Data Recovery Capabilities",
          "CIS Controls/Foundational Critical Controls/Email and Web Browser Protections",
          "CIS Controls/Organizational Critical Controls/Implement a Security Awareness and Training Program",
          "CIS Controls/Organizational Critical Controls/Incident Response and Management",
          "CIS Controls/Basic Critical Controls/Inventory and Control of Hardware Assets",
          "CIS Controls/Basic Critical Controls/Inventory and Control of Software Assets",
          "CIS Controls/Foundational Critical Controls/Limitation and Control of Network Ports, Protocols, and Services",
          "CIS Controls/Basic Critical Controls/Maintenance, Monitoring and Analysis of Audit Logs",
          "CIS Controls/Foundational Critical Controls/Malware Defenses",
          "CIS Controls/Organizational Critical Controls/Penetration Tests and Red Team Exercises",
          "CIS Controls/Basic Critical Controls/Secure Configuration for Hardware and Software on Mobile Devices, Laptops, Workstations and Servers",
          "CIS Controls/Foundational Critical Controls/Secure Configuration for Network Devices, such as Firewalls, Routers and Switches",
          "CIS Controls/Foundational Critical Controls/Wireless Access Control",
          "CIS Controls/Basic Critical Controls",
          "CIS Controls/Foundational Critical Controls",
          "CIS Controls/Organizational Critical Controls",
          "CIS Controls"
         ],
         "labels": [
          "1.1 - Utilize an Active Discovery Tool",
          "1.2 - Use a Passive Asset Discovery Tool",
          "1.3 - Use DHCP Logging to Update Asset Inventory",
          "1.4 - Maintain Detailed Asset Inventory",
          "1.5 - Maintain Asset Inventory Information",
          "1.6 - Address Unauthorized Assets",
          "1.7 - Deploy Port Level Access Control",
          "1.8 - Utilize Client Certificates to Authenticate Hardware Assets",
          "10.1 - Ensure Regular Automated BackUps",
          "10.2 - Perform Complete System Backups",
          "10.3 - Test Data on Backup Media",
          "10.4 - Protect Backups",
          "10.5 - Ensure All Backups Have at Least One Offline Backup Destination",
          "11.1 - Maintain Standard Security Configurations for Network Devices",
          "11.2 - Document Traffic Configuration Rules",
          "11.3 - Use Automated Tools to Verify Standard Device Configurations and Detect Changes",
          "11.4 - Install the Latest Stable Version of Any Security-Related Updates on All Network Devices",
          "11.5 - Manage Network Devices Using Multi-Factor Authentication and Encrypted Sessions",
          "11.6 - Use Dedicated Machines For All Network Administrative Tasks",
          "11.7 - Manage Network Infrastructure Through a Dedicated Network",
          "12.1 - Maintain an Inventory of Network Boundaries",
          "12.10 - Decrypt Network Traffic at Proxy",
          "12.11 - Require All Remote Login to Use Multi-Factor Authentication",
          "12.12 - Manage All Devices Remotely Logging into Internal Network",
          "12.2 - Scan for Unauthorized Connections Across Trusted Network Boundaries",
          "12.3 - Deny Communications With Known Malicious IP Addresses",
          "12.4 - Deny Communication Over Unauthorized Ports",
          "12.5 - Configure Monitoring Systems to Record Network Packets",
          "12.6 - Deploy Network-Based IDS Sensors",
          "12.7 - Deploy Network-Based Intrusion Prevention Systems",
          "12.8 - Deploy NetFlow Collection on Networking Boundary Devices",
          "12.9 - Deploy Application Layer Filtering Proxy Server",
          "13.1 - Maintain an Inventory of Sensitive Information",
          "13.2 - Remove Sensitive Data or Systems Not Regularly Accessed by Organization",
          "13.3 - Monitor and Block Unauthorized Network Traffic",
          "13.4 - Only Allow Access to Authorized Cloud Storage or Email Providers",
          "13.5 - Monitor and Detect Any Unauthorized Use of Encryption",
          "13.6 - Encrypt Mobile Device Data",
          "13.7 - Manage USB Devices",
          "13.8 - Manage System's External Removable Media's Read/Write Configurations",
          "13.9 - Encrypt Data on USB Storage Devices",
          "14.1 - Segment the Network Based on Sensitivity",
          "14.2 - Enable Firewall Filtering Between VLANs",
          "14.3 - Disable Workstation to Workstation Communication",
          "14.4 - Encrypt All Sensitive Information in Transit",
          "14.5 - Utilize an Active Discovery Tool to Identify Sensitive Data",
          "14.6 - Protect Information Through Access Control Lists",
          "14.7 - Enforce Access Control to Data Through Automated Tools",
          "14.8 - Encrypt Sensitive Information at Rest",
          "14.9 - Enforce Detail Logging for Access or Changes to Sensitive Data",
          "15.1 - Maintain an Inventory of Authorized Wireless Access Points",
          "15.10 - Create Separate Wireless Network for Personal and Untrusted Devices",
          "15.2 - Detect Wireless Access Points Connected to the Wired Network",
          "15.3 - Use a Wireless Intrusion Detection System",
          "15.4 - Disable Wireless Access on Devices if Not Required",
          "15.5 - Limit Wireless Access on Client Devices",
          "15.6 - Disable Peer-to-Peer Wireless Network Capabilities on Wireless Clients",
          "15.7 - Leverage the Advanced Encryption Standard (AES) to Encrypt Wireless Data",
          "15.8 - Use Wireless Authentication Protocols That Require Mutual, Multi-Factor Authentication",
          "15.9 - Disable Wireless Peripheral Access of Devices",
          "16.1 - Maintain an Inventory of Authentication Systems",
          "16.10 - Ensure All Accounts Have An Expiration Date",
          "16.11 - Lock Workstation Sessions After Inactivity",
          "16.12 - Monitor Attempts to Access Deactivated Accounts",
          "16.13 - Alert on Account Login Behavior Deviation",
          "16.2 - Configure Centralized Point of Authentication",
          "16.3 - Require Multi-Factor Authentication",
          "16.4 - Encrypt or Hash all Authentication Credentials",
          "16.5 - Encrypt Transmittal of Username and Authentication Credentials",
          "16.6 - Maintain an Inventory of Accounts",
          "16.7 - Establish Process for Revoking Access",
          "16.8 - Disable Any Unassociated Accounts",
          "16.9 - Disable Dormant Accounts",
          "17.1 - Perform a Skills Gap Analysis",
          "17.2 - Deliver Training to Fill the Skills Gap",
          "17.3 - Implement a Security Awareness Program",
          "17.4 - Update Awareness Content Frequently",
          "17.5 - Train Workforce on Secure Authentication",
          "17.6 - Train Workforce on Identifying Social Engineering Attacks",
          "17.7 - Train Workforce on Sensitive Data Handling",
          "17.8 - Train Workforce on Causes of Unintentional Data Exposure",
          "17.9 - Train Workforce Members on Identifying and Reporting Incidents",
          "18.1 - Deploy Web Application Firewalls",
          "18.1 - Establish Secure Coding Practices",
          "18.11 - Use Standard Hardening Configuration Templates for Databases",
          "18.2 - Ensure That Explicit Error Checking is Performed for All In-House Developed Software",
          "18.3 - Verify That Acquired Software is Still Supported",
          "18.4 - Only Use Up-to-Date and Trusted Third-Party Components",
          "18.5 - Use Only Standardized and Extensively Reviewed Encryption Algorithms",
          "18.6 - Ensure Software Development Personnel are Trained in Secure Coding",
          "18.7 - Apply Static and Dynamic Code Analysis Tools",
          "18.8 - Establish a Process to Accept and Address Reports of Software Vulnerabilities",
          "18.9 - Separate Production and Non-Production Systems",
          "19.1 - Document Incident Response Procedures",
          "19.2 - Assign Job Titles and Duties for Incident Response",
          "19.3 - Designate Management Personnel to Support Incident Handling",
          "19.4 - Devise Organization-wide Standards for Reporting Incidents",
          "19.5 - Maintain Contact Information For Reporting Security Incidents",
          "19.6 - Publish Information Regarding Reporting Computer Anomalies and Incidents",
          "19.7 - Conduct Periodic Incident Scenario Sessions for Personnel",
          "19.8 - Create Incident Scoring and Prioritization Schema",
          "2.1 - Maintain authorized software inventory",
          "2.10 - Physically or Logically Segregate High Risk Applications",
          "2.2 - Ensure Software is Supported by Vendor",
          "2.3 - Utilize Software Inventory Tools",
          "2.4 - Track Software Inventory Information",
          "2.5 - Integrate Software and Hardware Asset Inventories",
          "2.6 - Address unapproved software",
          "2.7 - Utilize Application Whitelisting",
          "2.8 - Implement Application Whitelisting of Libraries",
          "2.9 - Implement Application Whitelisting of Scripts",
          "20.1 - Establish a Penetration Testing Program",
          "20.2 - Conduct Regular External and Internal Penetration Tests",
          "20.3 - Perform Periodic Red Team Exercises",
          "20.4 - Include Tests for Presence of Unprotected System Information and Artifacts",
          "20.5 - Create Test Bed for Elements Not Typically Tested in Production",
          "20.6 - Use Vulnerability Scanning and Penetration Testing Tools in Concert",
          "20.7 - Ensure Results from Penetration Test are Documented Using Open, Machine-readable Standards",
          "20.8 - Control and Monitor Accounts Associated with Penetration Testing",
          "3.1 - Run Automated Vulnerability Scanning Tools",
          "3.2 - Perform Authenticated Vulnerability Scanning",
          "3.3 - Protect Dedicated Assessment Accounts",
          "3.4 - Deploy Automated Operating System Patch Management Tools",
          "3.5 - Deploy Automated Software Patch Management Tools",
          "3.6 - Compare Back-to-Back Vulnerability Scans",
          "3.7 - Utilize a Risk-Rating Process",
          "4.1 - Maintain Inventory of Administrative Accounts",
          "4.2 - Change Default Passwords",
          "4.3 - Ensure the Use of Dedicated Administrative Accounts",
          "4.4 - Use Unique Passwords",
          "4.5 - Use Multi-Factor Authentication for All Administrative Access",
          "4.6 - Use Dedicated Workstations For All Administrative Tasks",
          "4.7 - Limit Access to Script Tools",
          "4.8 - Log and Alert on Changes to Administrative Group Membership",
          "4.9 - Log and Alert on Unsuccessful Administrative Account Login",
          "5.1 - Establish Secure Configurations",
          "5.2 - Maintain Secure Images",
          "5.3 - Securely Store Master Images",
          "5.4 - Deploy System Configuration Management Tools",
          "5.5 - Implement Automated Configuration Monitoring Systems",
          "6.1 - Utilize Three Synchronized Time Sources",
          "6.2 - Activate Audit Logging",
          "6.3 - Enable Detailed Logging",
          "6.4 - Ensure Adequate Storage for Logs",
          "6.5 - Central Log Management",
          "6.6 - Deploy SIEM or Log Analytic Tools",
          "6.7 - Regularly Review Logs",
          "6.8 - Regularly Tune SIEM",
          "7.1 - Ensure Use of Only Fully Supported Browsers and Email Clients",
          "7.10 - Sandbox All Email Attachments",
          "7.2 - Disable Unnecessary or Unauthorized Browser or Email Client Plugins",
          "7.3 - Limit Use of Scripting Languages in Web Browsers and Email Clients",
          "7.4 - Maintain and Enforce Network-Based URL Filters",
          "7.5 - Subscribe to URL-Categorization Service",
          "7.6 - Log All URL requester",
          "7.7 - Use of DNS Filtering Services",
          "7.8 - Implement DMARC and Enable Receiver-Side Verification",
          "7.9 - Block Unnecessary File Types",
          "8.1 - Utilize Centrally Managed Anti-malware Software",
          "8.2 - Ensure Anti-Malware Software and Signatures Are Updated",
          "8.3 - Enable Operating System Anti-Exploitation Features/Deploy Anti-Exploit Technologies",
          "8.4 - Configure Anti-Malware Scanning of Removable Devices",
          "8.5 - Configure Devices to Not Auto-Run Content",
          "8.6 - Centralize Anti-Malware Logging",
          "8.7 - Enable DNS Query Logging",
          "8.8 - Enable Command-Line Audit Logging",
          "9.1 - Associate Active Ports, Services, and Protocols to Asset Inventory",
          "9.2 - Ensure Only Approved Ports, Protocols, and Services Are Running",
          "9.3 - Perform Regular Automated Port Scans",
          "9.4 - Apply Host-Based Firewalls or Port-Filtering",
          "9.5 - Implement Application Firewalls",
          "1",
          "1",
          "1",
          "1",
          "1",
          "1",
          "1",
          "1",
          "1",
          "1",
          "1",
          "1",
          "1",
          "1",
          "1",
          "1",
          "1",
          "1",
          "2",
          "2",
          "2",
          "2",
          "2",
          "2",
          "2",
          "2",
          "2",
          "2",
          "2",
          "2",
          "2",
          "2",
          "2",
          "2",
          "2",
          "2",
          "2",
          "2",
          "3",
          "3",
          "3",
          "3",
          "3",
          "3",
          "3",
          "3",
          "3",
          "3",
          "3",
          "3",
          "3",
          "3",
          "Account Monitoring and Control",
          "Application Software Security",
          "Boundary Defense",
          "Continuous Vulnerability Management",
          "Controlled Access Based on the Need to Know",
          "Controlled Use of Administrative Privileges",
          "Data Protection",
          "Data Recovery Capabilities",
          "Email and Web Browser Protections",
          "Implement a Security Awareness and Training Program",
          "Incident Response and Management",
          "Inventory and Control of Hardware Assets",
          "Inventory and Control of Software Assets",
          "Limitation and Control of Network Ports, Protocols, and Services",
          "Maintenance, Monitoring and Analysis of Audit Logs",
          "Malware Defenses",
          "Penetration Tests and Red Team Exercises",
          "Secure Configuration for Hardware and Software on Mobile Devices, Laptops, Workstations and Servers",
          "Secure Configuration for Network Devices, such as Firewalls, Routers and Switches",
          "Wireless Access Control",
          "Basic Critical Controls",
          "Foundational Critical Controls",
          "Organizational Critical Controls",
          "CIS Controls"
         ],
         "marker": {
          "coloraxis": "coloraxis",
          "colors": [
           10.0,
           7.0,
           7.0,
           10.0,
           9.0,
           8.0,
           8.0,
           7.0,
           8.0,
           8.0,
           9.0,
           10.0,
           9.0,
           7.0,
           9.0,
           9.0,
           8.0,
           7.0,
           8.0,
           10.0,
           8.0,
           8.0,
           10.0,
           8.0,
           8.0,
           10.0,
           7.0,
           8.0,
           7.0,
           7.0,
           9.0,
           9.0,
           8.0,
           8.0,
           8.0,
           10.0,
           9.0,
           10.0,
           7.0,
           10.0,
           9.0,
           10.0,
           8.0,
           9.0,
           9.0,
           9.0,
           9.0,
           7.0,
           8.0,
           7.0,
           8.0,
           7.0,
           9.0,
           8.0,
           10.0,
           9.0,
           7.0,
           7.0,
           8.0,
           8.0,
           7.0,
           7.0,
           10.0,
           9.0,
           8.0,
           7.0,
           9.0,
           8.0,
           7.0,
           9.0,
           8.0,
           8.0,
           9.0,
           9.0,
           10.0,
           8.0,
           8.0,
           8.0,
           8.0,
           9.0,
           9.0,
           9.0,
           7.0,
           7.0,
           8.0,
           10.0,
           8.0,
           8.0,
           9.0,
           7.0,
           9.0,
           8.0,
           10.0,
           9.0,
           7.0,
           9.0,
           7.0,
           8.0,
           10.0,
           8.0,
           10.0,
           10.0,
           10.0,
           7.0,
           8.0,
           8.0,
           10.0,
           9.0,
           7.0,
           9.0,
           8.0,
           8.0,
           9.0,
           8.0,
           7.0,
           10.0,
           10.0,
           7.0,
           7.0,
           10.0,
           7.0,
           10.0,
           9.0,
           10.0,
           9.0,
           10.0,
           9.0,
           7.0,
           7.0,
           7.0,
           8.0,
           7.0,
           9.0,
           9.0,
           9.0,
           9.0,
           7.0,
           10.0,
           10.0,
           7.0,
           10.0,
           8.0,
           10.0,
           8.0,
           7.0,
           10.0,
           7.0,
           7.0,
           7.0,
           9.0,
           8.0,
           8.0,
           10.0,
           8.0,
           10.0,
           10.0,
           10.0,
           7.0,
           7.0,
           7.0,
           7.0,
           10.0,
           10.0,
           7.0,
           10.0,
           9.0,
           9.0,
           10.0,
           9.0,
           8.0,
           8.0,
           9.0,
           7.5,
           9.5,
           9.0,
           7.0,
           8.666666666666666,
           8.75,
           8.5,
           8.5,
           9.0,
           9.0,
           8.666666666666666,
           8.0,
           8.0,
           9.0,
           9.0,
           8.0,
           7.0,
           7.888888888888889,
           8.3,
           8.666666666666666,
           9.2,
           9.0,
           8.5,
           8.5,
           9.0,
           8.714285714285714,
           9.0,
           7.333333333333333,
           8.5,
           8.0,
           9.333333333333334,
           8.666666666666666,
           8.0,
           8.5,
           8.5,
           8.333333333333334,
           8.0,
           8.0,
           8.0,
           8.0,
           7.75,
           7.0,
           9.0,
           9.0,
           10.0,
           7.0,
           8.8,
           8.0,
           7.0,
           7.5,
           9.0,
           8.153846153846153,
           8.272727272727273,
           8.25,
           9.285714285714286,
           8.444444444444445,
           8.0,
           8.777777777777779,
           8.8,
           8.7,
           8.666666666666666,
           8.5,
           8.25,
           8.6,
           8.8,
           8.375,
           8.375,
           8.25,
           8.6,
           8.285714285714286,
           8.1,
           8.48936170212766,
           8.420454545454545,
           8.416666666666666,
           8.43859649122807
          ]
         },
         "name": "",
         "parents": [
          "CIS Controls/Basic Critical Controls/Inventory and Control of Hardware Assets/2",
          "CIS Controls/Basic Critical Controls/Inventory and Control of Hardware Assets/3",
          "CIS Controls/Basic Critical Controls/Inventory and Control of Hardware Assets/2",
          "CIS Controls/Basic Critical Controls/Inventory and Control of Hardware Assets/1",
          "CIS Controls/Basic Critical Controls/Inventory and Control of Hardware Assets/2",
          "CIS Controls/Basic Critical Controls/Inventory and Control of Hardware Assets/1",
          "CIS Controls/Basic Critical Controls/Inventory and Control of Hardware Assets/2",
          "CIS Controls/Basic Critical Controls/Inventory and Control of Hardware Assets/3",
          "CIS Controls/Foundational Critical Controls/Data Recovery Capabilities/1",
          "CIS Controls/Foundational Critical Controls/Data Recovery Capabilities/1",
          "CIS Controls/Foundational Critical Controls/Data Recovery Capabilities/2",
          "CIS Controls/Foundational Critical Controls/Data Recovery Capabilities/1",
          "CIS Controls/Foundational Critical Controls/Data Recovery Capabilities/1",
          "CIS Controls/Foundational Critical Controls/Secure Configuration for Network Devices, such as Firewalls, Routers and Switches/2",
          "CIS Controls/Foundational Critical Controls/Secure Configuration for Network Devices, such as Firewalls, Routers and Switches/2",
          "CIS Controls/Foundational Critical Controls/Secure Configuration for Network Devices, such as Firewalls, Routers and Switches/2",
          "CIS Controls/Foundational Critical Controls/Secure Configuration for Network Devices, such as Firewalls, Routers and Switches/1",
          "CIS Controls/Foundational Critical Controls/Secure Configuration for Network Devices, such as Firewalls, Routers and Switches/2",
          "CIS Controls/Foundational Critical Controls/Secure Configuration for Network Devices, such as Firewalls, Routers and Switches/2",
          "CIS Controls/Foundational Critical Controls/Secure Configuration for Network Devices, such as Firewalls, Routers and Switches/2",
          "CIS Controls/Foundational Critical Controls/Boundary Defense/1",
          "CIS Controls/Foundational Critical Controls/Boundary Defense/3",
          "CIS Controls/Foundational Critical Controls/Boundary Defense/2",
          "CIS Controls/Foundational Critical Controls/Boundary Defense/3",
          "CIS Controls/Foundational Critical Controls/Boundary Defense/2",
          "CIS Controls/Foundational Critical Controls/Boundary Defense/2",
          "CIS Controls/Foundational Critical Controls/Boundary Defense/1",
          "CIS Controls/Foundational Critical Controls/Boundary Defense/2",
          "CIS Controls/Foundational Critical Controls/Boundary Defense/2",
          "CIS Controls/Foundational Critical Controls/Boundary Defense/3",
          "CIS Controls/Foundational Critical Controls/Boundary Defense/2",
          "CIS Controls/Foundational Critical Controls/Boundary Defense/3",
          "CIS Controls/Foundational Critical Controls/Data Protection/1",
          "CIS Controls/Foundational Critical Controls/Data Protection/1",
          "CIS Controls/Foundational Critical Controls/Data Protection/3",
          "CIS Controls/Foundational Critical Controls/Data Protection/2",
          "CIS Controls/Foundational Critical Controls/Data Protection/3",
          "CIS Controls/Foundational Critical Controls/Data Protection/1",
          "CIS Controls/Foundational Critical Controls/Data Protection/2",
          "CIS Controls/Foundational Critical Controls/Data Protection/3",
          "CIS Controls/Foundational Critical Controls/Data Protection/3",
          "CIS Controls/Foundational Critical Controls/Controlled Access Based on the Need to Know/2",
          "CIS Controls/Foundational Critical Controls/Controlled Access Based on the Need to Know/2",
          "CIS Controls/Foundational Critical Controls/Controlled Access Based on the Need to Know/2",
          "CIS Controls/Foundational Critical Controls/Controlled Access Based on the Need to Know/2",
          "CIS Controls/Foundational Critical Controls/Controlled Access Based on the Need to Know/3",
          "CIS Controls/Foundational Critical Controls/Controlled Access Based on the Need to Know/1",
          "CIS Controls/Foundational Critical Controls/Controlled Access Based on the Need to Know/3",
          "CIS Controls/Foundational Critical Controls/Controlled Access Based on the Need to Know/3",
          "CIS Controls/Foundational Critical Controls/Controlled Access Based on the Need to Know/3",
          "CIS Controls/Foundational Critical Controls/Wireless Access Control/2",
          "CIS Controls/Foundational Critical Controls/Wireless Access Control/1",
          "CIS Controls/Foundational Critical Controls/Wireless Access Control/2",
          "CIS Controls/Foundational Critical Controls/Wireless Access Control/2",
          "CIS Controls/Foundational Critical Controls/Wireless Access Control/3",
          "CIS Controls/Foundational Critical Controls/Wireless Access Control/3",
          "CIS Controls/Foundational Critical Controls/Wireless Access Control/2",
          "CIS Controls/Foundational Critical Controls/Wireless Access Control/1",
          "CIS Controls/Foundational Critical Controls/Wireless Access Control/3",
          "CIS Controls/Foundational Critical Controls/Wireless Access Control/2",
          "CIS Controls/Foundational Critical Controls/Account Monitoring and Control/2",
          "CIS Controls/Foundational Critical Controls/Account Monitoring and Control/2",
          "CIS Controls/Foundational Critical Controls/Account Monitoring and Control/1",
          "CIS Controls/Foundational Critical Controls/Account Monitoring and Control/2",
          "CIS Controls/Foundational Critical Controls/Account Monitoring and Control/3",
          "CIS Controls/Foundational Critical Controls/Account Monitoring and Control/2",
          "CIS Controls/Foundational Critical Controls/Account Monitoring and Control/2",
          "CIS Controls/Foundational Critical Controls/Account Monitoring and Control/2",
          "CIS Controls/Foundational Critical Controls/Account Monitoring and Control/2",
          "CIS Controls/Foundational Critical Controls/Account Monitoring and Control/2",
          "CIS Controls/Foundational Critical Controls/Account Monitoring and Control/2",
          "CIS Controls/Foundational Critical Controls/Account Monitoring and Control/1",
          "CIS Controls/Foundational Critical Controls/Account Monitoring and Control/1",
          "CIS Controls/Organizational Critical Controls/Implement a Security Awareness and Training Program/2",
          "CIS Controls/Organizational Critical Controls/Implement a Security Awareness and Training Program/2",
          "CIS Controls/Organizational Critical Controls/Implement a Security Awareness and Training Program/1",
          "CIS Controls/Organizational Critical Controls/Implement a Security Awareness and Training Program/2",
          "CIS Controls/Organizational Critical Controls/Implement a Security Awareness and Training Program/1",
          "CIS Controls/Organizational Critical Controls/Implement a Security Awareness and Training Program/1",
          "CIS Controls/Organizational Critical Controls/Implement a Security Awareness and Training Program/1",
          "CIS Controls/Organizational Critical Controls/Implement a Security Awareness and Training Program/1",
          "CIS Controls/Organizational Critical Controls/Implement a Security Awareness and Training Program/1",
          "CIS Controls/Organizational Critical Controls/Application Software Security/2",
          "CIS Controls/Organizational Critical Controls/Application Software Security/2",
          "CIS Controls/Organizational Critical Controls/Application Software Security/2",
          "CIS Controls/Organizational Critical Controls/Application Software Security/2",
          "CIS Controls/Organizational Critical Controls/Application Software Security/2",
          "CIS Controls/Organizational Critical Controls/Application Software Security/3",
          "CIS Controls/Organizational Critical Controls/Application Software Security/2",
          "CIS Controls/Organizational Critical Controls/Application Software Security/2",
          "CIS Controls/Organizational Critical Controls/Application Software Security/2",
          "CIS Controls/Organizational Critical Controls/Application Software Security/2",
          "CIS Controls/Organizational Critical Controls/Application Software Security/2",
          "CIS Controls/Organizational Critical Controls/Incident Response and Management/1",
          "CIS Controls/Organizational Critical Controls/Incident Response and Management/2",
          "CIS Controls/Organizational Critical Controls/Incident Response and Management/1",
          "CIS Controls/Organizational Critical Controls/Incident Response and Management/2",
          "CIS Controls/Organizational Critical Controls/Incident Response and Management/1",
          "CIS Controls/Organizational Critical Controls/Incident Response and Management/1",
          "CIS Controls/Organizational Critical Controls/Incident Response and Management/2",
          "CIS Controls/Organizational Critical Controls/Incident Response and Management/3",
          "CIS Controls/Basic Critical Controls/Inventory and Control of Software Assets/1",
          "CIS Controls/Basic Critical Controls/Inventory and Control of Software Assets/3",
          "CIS Controls/Basic Critical Controls/Inventory and Control of Software Assets/1",
          "CIS Controls/Basic Critical Controls/Inventory and Control of Software Assets/2",
          "CIS Controls/Basic Critical Controls/Inventory and Control of Software Assets/2",
          "CIS Controls/Basic Critical Controls/Inventory and Control of Software Assets/3",
          "CIS Controls/Basic Critical Controls/Inventory and Control of Software Assets/1",
          "CIS Controls/Basic Critical Controls/Inventory and Control of Software Assets/3",
          "CIS Controls/Basic Critical Controls/Inventory and Control of Software Assets/3",
          "CIS Controls/Basic Critical Controls/Inventory and Control of Software Assets/3",
          "CIS Controls/Organizational Critical Controls/Penetration Tests and Red Team Exercises/2",
          "CIS Controls/Organizational Critical Controls/Penetration Tests and Red Team Exercises/2",
          "CIS Controls/Organizational Critical Controls/Penetration Tests and Red Team Exercises/3",
          "CIS Controls/Organizational Critical Controls/Penetration Tests and Red Team Exercises/2",
          "CIS Controls/Organizational Critical Controls/Penetration Tests and Red Team Exercises/2",
          "CIS Controls/Organizational Critical Controls/Penetration Tests and Red Team Exercises/2",
          "CIS Controls/Organizational Critical Controls/Penetration Tests and Red Team Exercises/3",
          "CIS Controls/Organizational Critical Controls/Penetration Tests and Red Team Exercises/2",
          "CIS Controls/Basic Critical Controls/Continuous Vulnerability Management/2",
          "CIS Controls/Basic Critical Controls/Continuous Vulnerability Management/2",
          "CIS Controls/Basic Critical Controls/Continuous Vulnerability Management/2",
          "CIS Controls/Basic Critical Controls/Continuous Vulnerability Management/1",
          "CIS Controls/Basic Critical Controls/Continuous Vulnerability Management/1",
          "CIS Controls/Basic Critical Controls/Continuous Vulnerability Management/2",
          "CIS Controls/Basic Critical Controls/Continuous Vulnerability Management/2",
          "CIS Controls/Basic Critical Controls/Controlled Use of Administrative Privileges/2",
          "CIS Controls/Basic Critical Controls/Controlled Use of Administrative Privileges/1",
          "CIS Controls/Basic Critical Controls/Controlled Use of Administrative Privileges/1",
          "CIS Controls/Basic Critical Controls/Controlled Use of Administrative Privileges/2",
          "CIS Controls/Basic Critical Controls/Controlled Use of Administrative Privileges/2",
          "CIS Controls/Basic Critical Controls/Controlled Use of Administrative Privileges/3",
          "CIS Controls/Basic Critical Controls/Controlled Use of Administrative Privileges/2",
          "CIS Controls/Basic Critical Controls/Controlled Use of Administrative Privileges/2",
          "CIS Controls/Basic Critical Controls/Controlled Use of Administrative Privileges/2",
          "CIS Controls/Basic Critical Controls/Secure Configuration for Hardware and Software on Mobile Devices, Laptops, Workstations and Servers/1",
          "CIS Controls/Basic Critical Controls/Secure Configuration for Hardware and Software on Mobile Devices, Laptops, Workstations and Servers/2",
          "CIS Controls/Basic Critical Controls/Secure Configuration for Hardware and Software on Mobile Devices, Laptops, Workstations and Servers/2",
          "CIS Controls/Basic Critical Controls/Secure Configuration for Hardware and Software on Mobile Devices, Laptops, Workstations and Servers/2",
          "CIS Controls/Basic Critical Controls/Secure Configuration for Hardware and Software on Mobile Devices, Laptops, Workstations and Servers/2",
          "CIS Controls/Basic Critical Controls/Maintenance, Monitoring and Analysis of Audit Logs/2",
          "CIS Controls/Basic Critical Controls/Maintenance, Monitoring and Analysis of Audit Logs/1",
          "CIS Controls/Basic Critical Controls/Maintenance, Monitoring and Analysis of Audit Logs/2",
          "CIS Controls/Basic Critical Controls/Maintenance, Monitoring and Analysis of Audit Logs/2",
          "CIS Controls/Basic Critical Controls/Maintenance, Monitoring and Analysis of Audit Logs/2",
          "CIS Controls/Basic Critical Controls/Maintenance, Monitoring and Analysis of Audit Logs/2",
          "CIS Controls/Basic Critical Controls/Maintenance, Monitoring and Analysis of Audit Logs/2",
          "CIS Controls/Basic Critical Controls/Maintenance, Monitoring and Analysis of Audit Logs/3",
          "CIS Controls/Foundational Critical Controls/Email and Web Browser Protections/1",
          "CIS Controls/Foundational Critical Controls/Email and Web Browser Protections/3",
          "CIS Controls/Foundational Critical Controls/Email and Web Browser Protections/2",
          "CIS Controls/Foundational Critical Controls/Email and Web Browser Protections/2",
          "CIS Controls/Foundational Critical Controls/Email and Web Browser Protections/2",
          "CIS Controls/Foundational Critical Controls/Email and Web Browser Protections/2",
          "CIS Controls/Foundational Critical Controls/Email and Web Browser Protections/2",
          "CIS Controls/Foundational Critical Controls/Email and Web Browser Protections/1",
          "CIS Controls/Foundational Critical Controls/Email and Web Browser Protections/2",
          "CIS Controls/Foundational Critical Controls/Email and Web Browser Protections/2",
          "CIS Controls/Foundational Critical Controls/Malware Defenses/2",
          "CIS Controls/Foundational Critical Controls/Malware Defenses/1",
          "CIS Controls/Foundational Critical Controls/Malware Defenses/2",
          "CIS Controls/Foundational Critical Controls/Malware Defenses/1",
          "CIS Controls/Foundational Critical Controls/Malware Defenses/1",
          "CIS Controls/Foundational Critical Controls/Malware Defenses/2",
          "CIS Controls/Foundational Critical Controls/Malware Defenses/2",
          "CIS Controls/Foundational Critical Controls/Malware Defenses/2",
          "CIS Controls/Foundational Critical Controls/Limitation and Control of Network Ports, Protocols, and Services/2",
          "CIS Controls/Foundational Critical Controls/Limitation and Control of Network Ports, Protocols, and Services/2",
          "CIS Controls/Foundational Critical Controls/Limitation and Control of Network Ports, Protocols, and Services/2",
          "CIS Controls/Foundational Critical Controls/Limitation and Control of Network Ports, Protocols, and Services/1",
          "CIS Controls/Foundational Critical Controls/Limitation and Control of Network Ports, Protocols, and Services/3",
          "CIS Controls/Foundational Critical Controls/Account Monitoring and Control",
          "CIS Controls/Foundational Critical Controls/Boundary Defense",
          "CIS Controls/Basic Critical Controls/Continuous Vulnerability Management",
          "CIS Controls/Foundational Critical Controls/Controlled Access Based on the Need to Know",
          "CIS Controls/Basic Critical Controls/Controlled Use of Administrative Privileges",
          "CIS Controls/Foundational Critical Controls/Data Protection",
          "CIS Controls/Foundational Critical Controls/Data Recovery Capabilities",
          "CIS Controls/Foundational Critical Controls/Email and Web Browser Protections",
          "CIS Controls/Organizational Critical Controls/Implement a Security Awareness and Training Program",
          "CIS Controls/Organizational Critical Controls/Incident Response and Management",
          "CIS Controls/Basic Critical Controls/Inventory and Control of Hardware Assets",
          "CIS Controls/Basic Critical Controls/Inventory and Control of Software Assets",
          "CIS Controls/Foundational Critical Controls/Limitation and Control of Network Ports, Protocols, and Services",
          "CIS Controls/Basic Critical Controls/Maintenance, Monitoring and Analysis of Audit Logs",
          "CIS Controls/Foundational Critical Controls/Malware Defenses",
          "CIS Controls/Basic Critical Controls/Secure Configuration for Hardware and Software on Mobile Devices, Laptops, Workstations and Servers",
          "CIS Controls/Foundational Critical Controls/Secure Configuration for Network Devices, such as Firewalls, Routers and Switches",
          "CIS Controls/Foundational Critical Controls/Wireless Access Control",
          "CIS Controls/Foundational Critical Controls/Account Monitoring and Control",
          "CIS Controls/Organizational Critical Controls/Application Software Security",
          "CIS Controls/Foundational Critical Controls/Boundary Defense",
          "CIS Controls/Basic Critical Controls/Continuous Vulnerability Management",
          "CIS Controls/Foundational Critical Controls/Controlled Access Based on the Need to Know",
          "CIS Controls/Basic Critical Controls/Controlled Use of Administrative Privileges",
          "CIS Controls/Foundational Critical Controls/Data Protection",
          "CIS Controls/Foundational Critical Controls/Data Recovery Capabilities",
          "CIS Controls/Foundational Critical Controls/Email and Web Browser Protections",
          "CIS Controls/Organizational Critical Controls/Implement a Security Awareness and Training Program",
          "CIS Controls/Organizational Critical Controls/Incident Response and Management",
          "CIS Controls/Basic Critical Controls/Inventory and Control of Hardware Assets",
          "CIS Controls/Basic Critical Controls/Inventory and Control of Software Assets",
          "CIS Controls/Foundational Critical Controls/Limitation and Control of Network Ports, Protocols, and Services",
          "CIS Controls/Basic Critical Controls/Maintenance, Monitoring and Analysis of Audit Logs",
          "CIS Controls/Foundational Critical Controls/Malware Defenses",
          "CIS Controls/Organizational Critical Controls/Penetration Tests and Red Team Exercises",
          "CIS Controls/Basic Critical Controls/Secure Configuration for Hardware and Software on Mobile Devices, Laptops, Workstations and Servers",
          "CIS Controls/Foundational Critical Controls/Secure Configuration for Network Devices, such as Firewalls, Routers and Switches",
          "CIS Controls/Foundational Critical Controls/Wireless Access Control",
          "CIS Controls/Foundational Critical Controls/Account Monitoring and Control",
          "CIS Controls/Organizational Critical Controls/Application Software Security",
          "CIS Controls/Foundational Critical Controls/Boundary Defense",
          "CIS Controls/Foundational Critical Controls/Controlled Access Based on the Need to Know",
          "CIS Controls/Basic Critical Controls/Controlled Use of Administrative Privileges",
          "CIS Controls/Foundational Critical Controls/Data Protection",
          "CIS Controls/Foundational Critical Controls/Email and Web Browser Protections",
          "CIS Controls/Organizational Critical Controls/Incident Response and Management",
          "CIS Controls/Basic Critical Controls/Inventory and Control of Hardware Assets",
          "CIS Controls/Basic Critical Controls/Inventory and Control of Software Assets",
          "CIS Controls/Foundational Critical Controls/Limitation and Control of Network Ports, Protocols, and Services",
          "CIS Controls/Basic Critical Controls/Maintenance, Monitoring and Analysis of Audit Logs",
          "CIS Controls/Organizational Critical Controls/Penetration Tests and Red Team Exercises",
          "CIS Controls/Foundational Critical Controls/Wireless Access Control",
          "CIS Controls/Foundational Critical Controls",
          "CIS Controls/Organizational Critical Controls",
          "CIS Controls/Foundational Critical Controls",
          "CIS Controls/Basic Critical Controls",
          "CIS Controls/Foundational Critical Controls",
          "CIS Controls/Basic Critical Controls",
          "CIS Controls/Foundational Critical Controls",
          "CIS Controls/Foundational Critical Controls",
          "CIS Controls/Foundational Critical Controls",
          "CIS Controls/Organizational Critical Controls",
          "CIS Controls/Organizational Critical Controls",
          "CIS Controls/Basic Critical Controls",
          "CIS Controls/Basic Critical Controls",
          "CIS Controls/Foundational Critical Controls",
          "CIS Controls/Basic Critical Controls",
          "CIS Controls/Foundational Critical Controls",
          "CIS Controls/Organizational Critical Controls",
          "CIS Controls/Basic Critical Controls",
          "CIS Controls/Foundational Critical Controls",
          "CIS Controls/Foundational Critical Controls",
          "CIS Controls",
          "CIS Controls",
          "CIS Controls",
          ""
         ],
         "type": "treemap",
         "values": [
          1,
          1,
          1,
          1,
          1,
          1,
          1,
          1,
          1,
          1,
          1,
          1,
          1,
          1,
          1,
          1,
          1,
          1,
          1,
          1,
          1,
          1,
          1,
          1,
          1,
          1,
          1,
          1,
          1,
          1,
          1,
          1,
          1,
          1,
          1,
          1,
          1,
          1,
          1,
          1,
          1,
          1,
          1,
          1,
          1,
          1,
          1,
          1,
          1,
          1,
          1,
          1,
          1,
          1,
          1,
          1,
          1,
          1,
          1,
          1,
          1,
          1,
          1,
          1,
          1,
          1,
          1,
          1,
          1,
          1,
          1,
          1,
          1,
          1,
          1,
          1,
          1,
          1,
          1,
          1,
          1,
          1,
          1,
          1,
          1,
          1,
          1,
          1,
          1,
          1,
          1,
          1,
          1,
          1,
          1,
          1,
          1,
          1,
          1,
          1,
          1,
          1,
          1,
          1,
          1,
          1,
          1,
          1,
          1,
          1,
          1,
          1,
          1,
          1,
          1,
          1,
          1,
          1,
          1,
          1,
          1,
          1,
          1,
          1,
          1,
          1,
          1,
          1,
          1,
          1,
          1,
          1,
          1,
          1,
          1,
          1,
          1,
          1,
          1,
          1,
          1,
          1,
          1,
          1,
          1,
          1,
          1,
          1,
          1,
          1,
          1,
          1,
          1,
          1,
          1,
          1,
          1,
          1,
          1,
          1,
          1,
          1,
          1,
          1,
          1,
          1,
          1,
          1,
          1,
          1,
          1,
          3,
          2,
          2,
          1,
          2,
          3,
          4,
          2,
          6,
          4,
          2,
          3,
          1,
          1,
          3,
          1,
          1,
          2,
          9,
          10,
          6,
          5,
          4,
          6,
          2,
          1,
          7,
          3,
          3,
          4,
          2,
          3,
          6,
          5,
          6,
          4,
          6,
          5,
          1,
          1,
          4,
          4,
          1,
          4,
          1,
          1,
          2,
          5,
          1,
          1,
          2,
          3,
          13,
          11,
          12,
          7,
          9,
          9,
          9,
          5,
          10,
          9,
          8,
          8,
          10,
          5,
          8,
          8,
          8,
          5,
          7,
          10,
          47,
          88,
          36,
          171
         ]
        }
       ],
       "layout": {
        "coloraxis": {
         "cmid": 8.43859649122807,
         "colorbar": {
          "title": {
           "text": "Mark"
          }
         },
         "colorscale": [
          [
           0.0,
           "rgb(103,0,31)"
          ],
          [
           0.1,
           "rgb(178,24,43)"
          ],
          [
           0.2,
           "rgb(214,96,77)"
          ],
          [
           0.3,
           "rgb(244,165,130)"
          ],
          [
           0.4,
           "rgb(253,219,199)"
          ],
          [
           0.5,
           "rgb(247,247,247)"
          ],
          [
           0.6,
           "rgb(209,229,240)"
          ],
          [
           0.7,
           "rgb(146,197,222)"
          ],
          [
           0.8,
           "rgb(67,147,195)"
          ],
          [
           0.9,
           "rgb(33,102,172)"
          ],
          [
           1.0,
           "rgb(5,48,97)"
          ]
         ]
        },
        "hovermode": false,
        "legend": {
         "tracegroupgap": 0
        },
        "margin": {
         "t": 60
        },
        "template": {
         "data": {
          "bar": [
           {
            "error_x": {
             "color": "#2a3f5f"
            },
            "error_y": {
             "color": "#2a3f5f"
            },
            "marker": {
             "line": {
              "color": "#E5ECF6",
              "width": 0.5
             }
            },
            "type": "bar"
           }
          ],
          "barpolar": [
           {
            "marker": {
             "line": {
              "color": "#E5ECF6",
              "width": 0.5
             }
            },
            "type": "barpolar"
           }
          ],
          "carpet": [
           {
            "aaxis": {
             "endlinecolor": "#2a3f5f",
             "gridcolor": "white",
             "linecolor": "white",
             "minorgridcolor": "white",
             "startlinecolor": "#2a3f5f"
            },
            "baxis": {
             "endlinecolor": "#2a3f5f",
             "gridcolor": "white",
             "linecolor": "white",
             "minorgridcolor": "white",
             "startlinecolor": "#2a3f5f"
            },
            "type": "carpet"
           }
          ],
          "choropleth": [
           {
            "colorbar": {
             "outlinewidth": 0,
             "ticks": ""
            },
            "type": "choropleth"
           }
          ],
          "contour": [
           {
            "colorbar": {
             "outlinewidth": 0,
             "ticks": ""
            },
            "colorscale": [
             [
              0.0,
              "#0d0887"
             ],
             [
              0.1111111111111111,
              "#46039f"
             ],
             [
              0.2222222222222222,
              "#7201a8"
             ],
             [
              0.3333333333333333,
              "#9c179e"
             ],
             [
              0.4444444444444444,
              "#bd3786"
             ],
             [
              0.5555555555555556,
              "#d8576b"
             ],
             [
              0.6666666666666666,
              "#ed7953"
             ],
             [
              0.7777777777777778,
              "#fb9f3a"
             ],
             [
              0.8888888888888888,
              "#fdca26"
             ],
             [
              1.0,
              "#f0f921"
             ]
            ],
            "type": "contour"
           }
          ],
          "contourcarpet": [
           {
            "colorbar": {
             "outlinewidth": 0,
             "ticks": ""
            },
            "type": "contourcarpet"
           }
          ],
          "heatmap": [
           {
            "colorbar": {
             "outlinewidth": 0,
             "ticks": ""
            },
            "colorscale": [
             [
              0.0,
              "#0d0887"
             ],
             [
              0.1111111111111111,
              "#46039f"
             ],
             [
              0.2222222222222222,
              "#7201a8"
             ],
             [
              0.3333333333333333,
              "#9c179e"
             ],
             [
              0.4444444444444444,
              "#bd3786"
             ],
             [
              0.5555555555555556,
              "#d8576b"
             ],
             [
              0.6666666666666666,
              "#ed7953"
             ],
             [
              0.7777777777777778,
              "#fb9f3a"
             ],
             [
              0.8888888888888888,
              "#fdca26"
             ],
             [
              1.0,
              "#f0f921"
             ]
            ],
            "type": "heatmap"
           }
          ],
          "heatmapgl": [
           {
            "colorbar": {
             "outlinewidth": 0,
             "ticks": ""
            },
            "colorscale": [
             [
              0.0,
              "#0d0887"
             ],
             [
              0.1111111111111111,
              "#46039f"
             ],
             [
              0.2222222222222222,
              "#7201a8"
             ],
             [
              0.3333333333333333,
              "#9c179e"
             ],
             [
              0.4444444444444444,
              "#bd3786"
             ],
             [
              0.5555555555555556,
              "#d8576b"
             ],
             [
              0.6666666666666666,
              "#ed7953"
             ],
             [
              0.7777777777777778,
              "#fb9f3a"
             ],
             [
              0.8888888888888888,
              "#fdca26"
             ],
             [
              1.0,
              "#f0f921"
             ]
            ],
            "type": "heatmapgl"
           }
          ],
          "histogram": [
           {
            "marker": {
             "colorbar": {
              "outlinewidth": 0,
              "ticks": ""
             }
            },
            "type": "histogram"
           }
          ],
          "histogram2d": [
           {
            "colorbar": {
             "outlinewidth": 0,
             "ticks": ""
            },
            "colorscale": [
             [
              0.0,
              "#0d0887"
             ],
             [
              0.1111111111111111,
              "#46039f"
             ],
             [
              0.2222222222222222,
              "#7201a8"
             ],
             [
              0.3333333333333333,
              "#9c179e"
             ],
             [
              0.4444444444444444,
              "#bd3786"
             ],
             [
              0.5555555555555556,
              "#d8576b"
             ],
             [
              0.6666666666666666,
              "#ed7953"
             ],
             [
              0.7777777777777778,
              "#fb9f3a"
             ],
             [
              0.8888888888888888,
              "#fdca26"
             ],
             [
              1.0,
              "#f0f921"
             ]
            ],
            "type": "histogram2d"
           }
          ],
          "histogram2dcontour": [
           {
            "colorbar": {
             "outlinewidth": 0,
             "ticks": ""
            },
            "colorscale": [
             [
              0.0,
              "#0d0887"
             ],
             [
              0.1111111111111111,
              "#46039f"
             ],
             [
              0.2222222222222222,
              "#7201a8"
             ],
             [
              0.3333333333333333,
              "#9c179e"
             ],
             [
              0.4444444444444444,
              "#bd3786"
             ],
             [
              0.5555555555555556,
              "#d8576b"
             ],
             [
              0.6666666666666666,
              "#ed7953"
             ],
             [
              0.7777777777777778,
              "#fb9f3a"
             ],
             [
              0.8888888888888888,
              "#fdca26"
             ],
             [
              1.0,
              "#f0f921"
             ]
            ],
            "type": "histogram2dcontour"
           }
          ],
          "mesh3d": [
           {
            "colorbar": {
             "outlinewidth": 0,
             "ticks": ""
            },
            "type": "mesh3d"
           }
          ],
          "parcoords": [
           {
            "line": {
             "colorbar": {
              "outlinewidth": 0,
              "ticks": ""
             }
            },
            "type": "parcoords"
           }
          ],
          "pie": [
           {
            "automargin": true,
            "type": "pie"
           }
          ],
          "scatter": [
           {
            "marker": {
             "colorbar": {
              "outlinewidth": 0,
              "ticks": ""
             }
            },
            "type": "scatter"
           }
          ],
          "scatter3d": [
           {
            "line": {
             "colorbar": {
              "outlinewidth": 0,
              "ticks": ""
             }
            },
            "marker": {
             "colorbar": {
              "outlinewidth": 0,
              "ticks": ""
             }
            },
            "type": "scatter3d"
           }
          ],
          "scattercarpet": [
           {
            "marker": {
             "colorbar": {
              "outlinewidth": 0,
              "ticks": ""
             }
            },
            "type": "scattercarpet"
           }
          ],
          "scattergeo": [
           {
            "marker": {
             "colorbar": {
              "outlinewidth": 0,
              "ticks": ""
             }
            },
            "type": "scattergeo"
           }
          ],
          "scattergl": [
           {
            "marker": {
             "colorbar": {
              "outlinewidth": 0,
              "ticks": ""
             }
            },
            "type": "scattergl"
           }
          ],
          "scattermapbox": [
           {
            "marker": {
             "colorbar": {
              "outlinewidth": 0,
              "ticks": ""
             }
            },
            "type": "scattermapbox"
           }
          ],
          "scatterpolar": [
           {
            "marker": {
             "colorbar": {
              "outlinewidth": 0,
              "ticks": ""
             }
            },
            "type": "scatterpolar"
           }
          ],
          "scatterpolargl": [
           {
            "marker": {
             "colorbar": {
              "outlinewidth": 0,
              "ticks": ""
             }
            },
            "type": "scatterpolargl"
           }
          ],
          "scatterternary": [
           {
            "marker": {
             "colorbar": {
              "outlinewidth": 0,
              "ticks": ""
             }
            },
            "type": "scatterternary"
           }
          ],
          "surface": [
           {
            "colorbar": {
             "outlinewidth": 0,
             "ticks": ""
            },
            "colorscale": [
             [
              0.0,
              "#0d0887"
             ],
             [
              0.1111111111111111,
              "#46039f"
             ],
             [
              0.2222222222222222,
              "#7201a8"
             ],
             [
              0.3333333333333333,
              "#9c179e"
             ],
             [
              0.4444444444444444,
              "#bd3786"
             ],
             [
              0.5555555555555556,
              "#d8576b"
             ],
             [
              0.6666666666666666,
              "#ed7953"
             ],
             [
              0.7777777777777778,
              "#fb9f3a"
             ],
             [
              0.8888888888888888,
              "#fdca26"
             ],
             [
              1.0,
              "#f0f921"
             ]
            ],
            "type": "surface"
           }
          ],
          "table": [
           {
            "cells": {
             "fill": {
              "color": "#EBF0F8"
             },
             "line": {
              "color": "white"
             }
            },
            "header": {
             "fill": {
              "color": "#C8D4E3"
             },
             "line": {
              "color": "white"
             }
            },
            "type": "table"
           }
          ]
         },
         "layout": {
          "annotationdefaults": {
           "arrowcolor": "#2a3f5f",
           "arrowhead": 0,
           "arrowwidth": 1
          },
          "coloraxis": {
           "colorbar": {
            "outlinewidth": 0,
            "ticks": ""
           }
          },
          "colorscale": {
           "diverging": [
            [
             0,
             "#8e0152"
            ],
            [
             0.1,
             "#c51b7d"
            ],
            [
             0.2,
             "#de77ae"
            ],
            [
             0.3,
             "#f1b6da"
            ],
            [
             0.4,
             "#fde0ef"
            ],
            [
             0.5,
             "#f7f7f7"
            ],
            [
             0.6,
             "#e6f5d0"
            ],
            [
             0.7,
             "#b8e186"
            ],
            [
             0.8,
             "#7fbc41"
            ],
            [
             0.9,
             "#4d9221"
            ],
            [
             1,
             "#276419"
            ]
           ],
           "sequential": [
            [
             0.0,
             "#0d0887"
            ],
            [
             0.1111111111111111,
             "#46039f"
            ],
            [
             0.2222222222222222,
             "#7201a8"
            ],
            [
             0.3333333333333333,
             "#9c179e"
            ],
            [
             0.4444444444444444,
             "#bd3786"
            ],
            [
             0.5555555555555556,
             "#d8576b"
            ],
            [
             0.6666666666666666,
             "#ed7953"
            ],
            [
             0.7777777777777778,
             "#fb9f3a"
            ],
            [
             0.8888888888888888,
             "#fdca26"
            ],
            [
             1.0,
             "#f0f921"
            ]
           ],
           "sequentialminus": [
            [
             0.0,
             "#0d0887"
            ],
            [
             0.1111111111111111,
             "#46039f"
            ],
            [
             0.2222222222222222,
             "#7201a8"
            ],
            [
             0.3333333333333333,
             "#9c179e"
            ],
            [
             0.4444444444444444,
             "#bd3786"
            ],
            [
             0.5555555555555556,
             "#d8576b"
            ],
            [
             0.6666666666666666,
             "#ed7953"
            ],
            [
             0.7777777777777778,
             "#fb9f3a"
            ],
            [
             0.8888888888888888,
             "#fdca26"
            ],
            [
             1.0,
             "#f0f921"
            ]
           ]
          },
          "colorway": [
           "#636efa",
           "#EF553B",
           "#00cc96",
           "#ab63fa",
           "#FFA15A",
           "#19d3f3",
           "#FF6692",
           "#B6E880",
           "#FF97FF",
           "#FECB52"
          ],
          "font": {
           "color": "#2a3f5f"
          },
          "geo": {
           "bgcolor": "white",
           "lakecolor": "white",
           "landcolor": "#E5ECF6",
           "showlakes": true,
           "showland": true,
           "subunitcolor": "white"
          },
          "hoverlabel": {
           "align": "left"
          },
          "hovermode": "closest",
          "mapbox": {
           "style": "light"
          },
          "paper_bgcolor": "white",
          "plot_bgcolor": "#E5ECF6",
          "polar": {
           "angularaxis": {
            "gridcolor": "white",
            "linecolor": "white",
            "ticks": ""
           },
           "bgcolor": "#E5ECF6",
           "radialaxis": {
            "gridcolor": "white",
            "linecolor": "white",
            "ticks": ""
           }
          },
          "scene": {
           "xaxis": {
            "backgroundcolor": "#E5ECF6",
            "gridcolor": "white",
            "gridwidth": 2,
            "linecolor": "white",
            "showbackground": true,
            "ticks": "",
            "zerolinecolor": "white"
           },
           "yaxis": {
            "backgroundcolor": "#E5ECF6",
            "gridcolor": "white",
            "gridwidth": 2,
            "linecolor": "white",
            "showbackground": true,
            "ticks": "",
            "zerolinecolor": "white"
           },
           "zaxis": {
            "backgroundcolor": "#E5ECF6",
            "gridcolor": "white",
            "gridwidth": 2,
            "linecolor": "white",
            "showbackground": true,
            "ticks": "",
            "zerolinecolor": "white"
           }
          },
          "shapedefaults": {
           "line": {
            "color": "#2a3f5f"
           }
          },
          "ternary": {
           "aaxis": {
            "gridcolor": "white",
            "linecolor": "white",
            "ticks": ""
           },
           "baxis": {
            "gridcolor": "white",
            "linecolor": "white",
            "ticks": ""
           },
           "bgcolor": "#E5ECF6",
           "caxis": {
            "gridcolor": "white",
            "linecolor": "white",
            "ticks": ""
           }
          },
          "title": {
           "x": 0.05
          },
          "xaxis": {
           "automargin": true,
           "gridcolor": "white",
           "linecolor": "white",
           "ticks": "",
           "title": {
            "standoff": 15
           },
           "zerolinecolor": "white",
           "zerolinewidth": 2
          },
          "yaxis": {
           "automargin": true,
           "gridcolor": "white",
           "linecolor": "white",
           "ticks": "",
           "title": {
            "standoff": 15
           },
           "zerolinecolor": "white",
           "zerolinewidth": 2
          }
         }
        },
        "title": {
         "text": "CIS Controls status separated by Categories"
        }
       }
      },
      "text/html": "<div>                            <div id=\"aa8ea66c-bc7e-47b6-aefb-41eb7beea85e\" class=\"plotly-graph-div\" style=\"height:525px; width:100%;\"></div>            <script type=\"text/javascript\">                require([\"plotly\"], function(Plotly) {                    window.PLOTLYENV=window.PLOTLYENV || {};                                    if (document.getElementById(\"aa8ea66c-bc7e-47b6-aefb-41eb7beea85e\")) {                    Plotly.newPlot(                        \"aa8ea66c-bc7e-47b6-aefb-41eb7beea85e\",                        [{\"branchvalues\": \"total\", \"customdata\": [[10.0], [7.0], [7.0], [10.0], [9.0], [8.0], [8.0], [7.0], [8.0], [8.0], [9.0], [10.0], [9.0], [7.0], [9.0], [9.0], [8.0], [7.0], [8.0], [10.0], [8.0], [8.0], [10.0], [8.0], [8.0], [10.0], [7.0], [8.0], [7.0], [7.0], [9.0], [9.0], [8.0], [8.0], [8.0], [10.0], [9.0], [10.0], [7.0], [10.0], [9.0], [10.0], [8.0], [9.0], [9.0], [9.0], [9.0], [7.0], [8.0], [7.0], [8.0], [7.0], [9.0], [8.0], [10.0], [9.0], [7.0], [7.0], [8.0], [8.0], [7.0], [7.0], [10.0], [9.0], [8.0], [7.0], [9.0], [8.0], [7.0], [9.0], [8.0], [8.0], [9.0], [9.0], [10.0], [8.0], [8.0], [8.0], [8.0], [9.0], [9.0], [9.0], [7.0], [7.0], [8.0], [10.0], [8.0], [8.0], [9.0], [7.0], [9.0], [8.0], [10.0], [9.0], [7.0], [9.0], [7.0], [8.0], [10.0], [8.0], [10.0], [10.0], [10.0], [7.0], [8.0], [8.0], [10.0], [9.0], [7.0], [9.0], [8.0], [8.0], [9.0], [8.0], [7.0], [10.0], [10.0], [7.0], [7.0], [10.0], [7.0], [10.0], [9.0], [10.0], [9.0], [10.0], [9.0], [7.0], [7.0], [7.0], [8.0], [7.0], [9.0], [9.0], [9.0], [9.0], [7.0], [10.0], [10.0], [7.0], [10.0], [8.0], [10.0], [8.0], [7.0], [10.0], [7.0], [7.0], [7.0], [9.0], [8.0], [8.0], [10.0], [8.0], [10.0], [10.0], [10.0], [7.0], [7.0], [7.0], [7.0], [10.0], [10.0], [7.0], [10.0], [9.0], [9.0], [10.0], [9.0], [8.0], [8.0], [9.0], [7.5], [9.5], [9.0], [7.0], [8.666666666666666], [8.75], [8.5], [8.5], [9.0], [9.0], [8.666666666666666], [8.0], [8.0], [9.0], [9.0], [8.0], [7.0], [7.888888888888889], [8.3], [8.666666666666666], [9.2], [9.0], [8.5], [8.5], [9.0], [8.714285714285714], [9.0], [7.333333333333333], [8.5], [8.0], [9.333333333333334], [8.666666666666666], [8.0], [8.5], [8.5], [8.333333333333334], [8.0], [8.0], [8.0], [8.0], [7.75], [7.0], [9.0], [9.0], [10.0], [7.0], [8.8], [8.0], [7.0], [7.5], [9.0], [8.153846153846153], [8.272727272727273], [8.25], [9.285714285714286], [8.444444444444445], [8.0], [8.777777777777779], [8.8], [8.7], [8.666666666666666], [8.5], [8.25], [8.6], [8.8], [8.375], [8.375], [8.25], [8.6], [8.285714285714286], [8.1], [8.48936170212766], [8.420454545454545], [8.416666666666666], [8.43859649122807]], \"domain\": {\"x\": [0.0, 1.0], \"y\": [0.0, 1.0]}, \"hovertemplate\": \"labels=%{label}<br>count=%{value}<br>parent=%{parent}<br>id=%{id}<br>Mark=%{color}<extra></extra>\", \"ids\": [\"CIS Controls/Basic Critical Controls/Inventory and Control of Hardware Assets/2/1.1 - Utilize an Active Discovery Tool\", \"CIS Controls/Basic Critical Controls/Inventory and Control of Hardware Assets/3/1.2 - Use a Passive Asset Discovery Tool\", \"CIS Controls/Basic Critical Controls/Inventory and Control of Hardware Assets/2/1.3 - Use DHCP Logging to Update Asset Inventory\", \"CIS Controls/Basic Critical Controls/Inventory and Control of Hardware Assets/1/1.4 - Maintain Detailed Asset Inventory\", \"CIS Controls/Basic Critical Controls/Inventory and Control of Hardware Assets/2/1.5 - Maintain Asset Inventory Information\", \"CIS Controls/Basic Critical Controls/Inventory and Control of Hardware Assets/1/1.6 - Address Unauthorized Assets\", \"CIS Controls/Basic Critical Controls/Inventory and Control of Hardware Assets/2/1.7 - Deploy Port Level Access Control\", \"CIS Controls/Basic Critical Controls/Inventory and Control of Hardware Assets/3/1.8 - Utilize Client Certificates to Authenticate Hardware Assets\", \"CIS Controls/Foundational Critical Controls/Data Recovery Capabilities/1/10.1 - Ensure Regular Automated BackUps\", \"CIS Controls/Foundational Critical Controls/Data Recovery Capabilities/1/10.2 - Perform Complete System Backups\", \"CIS Controls/Foundational Critical Controls/Data Recovery Capabilities/2/10.3 - Test Data on Backup Media\", \"CIS Controls/Foundational Critical Controls/Data Recovery Capabilities/1/10.4 - Protect Backups\", \"CIS Controls/Foundational Critical Controls/Data Recovery Capabilities/1/10.5 - Ensure All Backups Have at Least One Offline Backup Destination\", \"CIS Controls/Foundational Critical Controls/Secure Configuration for Network Devices, such as Firewalls, Routers and Switches/2/11.1 - Maintain Standard Security Configurations for Network Devices\", \"CIS Controls/Foundational Critical Controls/Secure Configuration for Network Devices, such as Firewalls, Routers and Switches/2/11.2 - Document Traffic Configuration Rules\", \"CIS Controls/Foundational Critical Controls/Secure Configuration for Network Devices, such as Firewalls, Routers and Switches/2/11.3 - Use Automated Tools to Verify Standard Device Configurations and Detect Changes\", \"CIS Controls/Foundational Critical Controls/Secure Configuration for Network Devices, such as Firewalls, Routers and Switches/1/11.4 - Install the Latest Stable Version of Any Security-Related Updates on All Network Devices\", \"CIS Controls/Foundational Critical Controls/Secure Configuration for Network Devices, such as Firewalls, Routers and Switches/2/11.5 - Manage Network Devices Using Multi-Factor Authentication and Encrypted Sessions\", \"CIS Controls/Foundational Critical Controls/Secure Configuration for Network Devices, such as Firewalls, Routers and Switches/2/11.6 - Use Dedicated Machines For All Network Administrative Tasks\", \"CIS Controls/Foundational Critical Controls/Secure Configuration for Network Devices, such as Firewalls, Routers and Switches/2/11.7 - Manage Network Infrastructure Through a Dedicated Network\", \"CIS Controls/Foundational Critical Controls/Boundary Defense/1/12.1 - Maintain an Inventory of Network Boundaries\", \"CIS Controls/Foundational Critical Controls/Boundary Defense/3/12.10 - Decrypt Network Traffic at Proxy\", \"CIS Controls/Foundational Critical Controls/Boundary Defense/2/12.11 - Require All Remote Login to Use Multi-Factor Authentication\", \"CIS Controls/Foundational Critical Controls/Boundary Defense/3/12.12 - Manage All Devices Remotely Logging into Internal Network\", \"CIS Controls/Foundational Critical Controls/Boundary Defense/2/12.2 - Scan for Unauthorized Connections Across Trusted Network Boundaries\", \"CIS Controls/Foundational Critical Controls/Boundary Defense/2/12.3 - Deny Communications With Known Malicious IP Addresses\", \"CIS Controls/Foundational Critical Controls/Boundary Defense/1/12.4 - Deny Communication Over Unauthorized Ports\", \"CIS Controls/Foundational Critical Controls/Boundary Defense/2/12.5 - Configure Monitoring Systems to Record Network Packets\", \"CIS Controls/Foundational Critical Controls/Boundary Defense/2/12.6 - Deploy Network-Based IDS Sensors\", \"CIS Controls/Foundational Critical Controls/Boundary Defense/3/12.7 - Deploy Network-Based Intrusion Prevention Systems\", \"CIS Controls/Foundational Critical Controls/Boundary Defense/2/12.8 - Deploy NetFlow Collection on Networking Boundary Devices\", \"CIS Controls/Foundational Critical Controls/Boundary Defense/3/12.9 - Deploy Application Layer Filtering Proxy Server\", \"CIS Controls/Foundational Critical Controls/Data Protection/1/13.1 - Maintain an Inventory of Sensitive Information\", \"CIS Controls/Foundational Critical Controls/Data Protection/1/13.2 - Remove Sensitive Data or Systems Not Regularly Accessed by Organization\", \"CIS Controls/Foundational Critical Controls/Data Protection/3/13.3 - Monitor and Block Unauthorized Network Traffic\", \"CIS Controls/Foundational Critical Controls/Data Protection/2/13.4 - Only Allow Access to Authorized Cloud Storage or Email Providers\", \"CIS Controls/Foundational Critical Controls/Data Protection/3/13.5 - Monitor and Detect Any Unauthorized Use of Encryption\", \"CIS Controls/Foundational Critical Controls/Data Protection/1/13.6 - Encrypt Mobile Device Data\", \"CIS Controls/Foundational Critical Controls/Data Protection/2/13.7 - Manage USB Devices\", \"CIS Controls/Foundational Critical Controls/Data Protection/3/13.8 - Manage System's External Removable Media's Read/Write Configurations\", \"CIS Controls/Foundational Critical Controls/Data Protection/3/13.9 - Encrypt Data on USB Storage Devices\", \"CIS Controls/Foundational Critical Controls/Controlled Access Based on the Need to Know/2/14.1 - Segment the Network Based on Sensitivity\", \"CIS Controls/Foundational Critical Controls/Controlled Access Based on the Need to Know/2/14.2 - Enable Firewall Filtering Between VLANs\", \"CIS Controls/Foundational Critical Controls/Controlled Access Based on the Need to Know/2/14.3 - Disable Workstation to Workstation Communication\", \"CIS Controls/Foundational Critical Controls/Controlled Access Based on the Need to Know/2/14.4 - Encrypt All Sensitive Information in Transit\", \"CIS Controls/Foundational Critical Controls/Controlled Access Based on the Need to Know/3/14.5 - Utilize an Active Discovery Tool to Identify Sensitive Data\", \"CIS Controls/Foundational Critical Controls/Controlled Access Based on the Need to Know/1/14.6 - Protect Information Through Access Control Lists\", \"CIS Controls/Foundational Critical Controls/Controlled Access Based on the Need to Know/3/14.7 - Enforce Access Control to Data Through Automated Tools\", \"CIS Controls/Foundational Critical Controls/Controlled Access Based on the Need to Know/3/14.8 - Encrypt Sensitive Information at Rest\", \"CIS Controls/Foundational Critical Controls/Controlled Access Based on the Need to Know/3/14.9 - Enforce Detail Logging for Access or Changes to Sensitive Data\", \"CIS Controls/Foundational Critical Controls/Wireless Access Control/2/15.1 - Maintain an Inventory of Authorized Wireless Access Points\", \"CIS Controls/Foundational Critical Controls/Wireless Access Control/1/15.10 - Create Separate Wireless Network for Personal and Untrusted Devices\", \"CIS Controls/Foundational Critical Controls/Wireless Access Control/2/15.2 - Detect Wireless Access Points Connected to the Wired Network\", \"CIS Controls/Foundational Critical Controls/Wireless Access Control/2/15.3 - Use a Wireless Intrusion Detection System\", \"CIS Controls/Foundational Critical Controls/Wireless Access Control/3/15.4 - Disable Wireless Access on Devices if Not Required\", \"CIS Controls/Foundational Critical Controls/Wireless Access Control/3/15.5 - Limit Wireless Access on Client Devices\", \"CIS Controls/Foundational Critical Controls/Wireless Access Control/2/15.6 - Disable Peer-to-Peer Wireless Network Capabilities on Wireless Clients\", \"CIS Controls/Foundational Critical Controls/Wireless Access Control/1/15.7 - Leverage the Advanced Encryption Standard (AES) to Encrypt Wireless Data\", \"CIS Controls/Foundational Critical Controls/Wireless Access Control/3/15.8 - Use Wireless Authentication Protocols That Require Mutual, Multi-Factor Authentication\", \"CIS Controls/Foundational Critical Controls/Wireless Access Control/2/15.9 - Disable Wireless Peripheral Access of Devices\", \"CIS Controls/Foundational Critical Controls/Account Monitoring and Control/2/16.1 - Maintain an Inventory of Authentication Systems\", \"CIS Controls/Foundational Critical Controls/Account Monitoring and Control/2/16.10 - Ensure All Accounts Have An Expiration Date\", \"CIS Controls/Foundational Critical Controls/Account Monitoring and Control/1/16.11 - Lock Workstation Sessions After Inactivity\", \"CIS Controls/Foundational Critical Controls/Account Monitoring and Control/2/16.12 - Monitor Attempts to Access Deactivated Accounts\", \"CIS Controls/Foundational Critical Controls/Account Monitoring and Control/3/16.13 - Alert on Account Login Behavior Deviation\", \"CIS Controls/Foundational Critical Controls/Account Monitoring and Control/2/16.2 - Configure Centralized Point of Authentication\", \"CIS Controls/Foundational Critical Controls/Account Monitoring and Control/2/16.3 - Require Multi-Factor Authentication\", \"CIS Controls/Foundational Critical Controls/Account Monitoring and Control/2/16.4 - Encrypt or Hash all Authentication Credentials\", \"CIS Controls/Foundational Critical Controls/Account Monitoring and Control/2/16.5 - Encrypt Transmittal of Username and Authentication Credentials\", \"CIS Controls/Foundational Critical Controls/Account Monitoring and Control/2/16.6 - Maintain an Inventory of Accounts\", \"CIS Controls/Foundational Critical Controls/Account Monitoring and Control/2/16.7 - Establish Process for Revoking Access\", \"CIS Controls/Foundational Critical Controls/Account Monitoring and Control/1/16.8 - Disable Any Unassociated Accounts\", \"CIS Controls/Foundational Critical Controls/Account Monitoring and Control/1/16.9 - Disable Dormant Accounts\", \"CIS Controls/Organizational Critical Controls/Implement a Security Awareness and Training Program/2/17.1 - Perform a Skills Gap Analysis\", \"CIS Controls/Organizational Critical Controls/Implement a Security Awareness and Training Program/2/17.2 - Deliver Training to Fill the Skills Gap\", \"CIS Controls/Organizational Critical Controls/Implement a Security Awareness and Training Program/1/17.3 - Implement a Security Awareness Program\", \"CIS Controls/Organizational Critical Controls/Implement a Security Awareness and Training Program/2/17.4 - Update Awareness Content Frequently\", \"CIS Controls/Organizational Critical Controls/Implement a Security Awareness and Training Program/1/17.5 - Train Workforce on Secure Authentication\", \"CIS Controls/Organizational Critical Controls/Implement a Security Awareness and Training Program/1/17.6 - Train Workforce on Identifying Social Engineering Attacks\", \"CIS Controls/Organizational Critical Controls/Implement a Security Awareness and Training Program/1/17.7 - Train Workforce on Sensitive Data Handling\", \"CIS Controls/Organizational Critical Controls/Implement a Security Awareness and Training Program/1/17.8 - Train Workforce on Causes of Unintentional Data Exposure\", \"CIS Controls/Organizational Critical Controls/Implement a Security Awareness and Training Program/1/17.9 - Train Workforce Members on Identifying and Reporting Incidents\", \"CIS Controls/Organizational Critical Controls/Application Software Security/2/18.1 - Deploy Web Application Firewalls\", \"CIS Controls/Organizational Critical Controls/Application Software Security/2/18.1 - Establish Secure Coding Practices\", \"CIS Controls/Organizational Critical Controls/Application Software Security/2/18.11 - Use Standard Hardening Configuration Templates for Databases\", \"CIS Controls/Organizational Critical Controls/Application Software Security/2/18.2 - Ensure That Explicit Error Checking is Performed for All In-House Developed Software\", \"CIS Controls/Organizational Critical Controls/Application Software Security/2/18.3 - Verify That Acquired Software is Still Supported\", \"CIS Controls/Organizational Critical Controls/Application Software Security/3/18.4 - Only Use Up-to-Date and Trusted Third-Party Components\", \"CIS Controls/Organizational Critical Controls/Application Software Security/2/18.5 - Use Only Standardized and Extensively Reviewed Encryption Algorithms\", \"CIS Controls/Organizational Critical Controls/Application Software Security/2/18.6 - Ensure Software Development Personnel are Trained in Secure Coding\", \"CIS Controls/Organizational Critical Controls/Application Software Security/2/18.7 - Apply Static and Dynamic Code Analysis Tools\", \"CIS Controls/Organizational Critical Controls/Application Software Security/2/18.8 - Establish a Process to Accept and Address Reports of Software Vulnerabilities\", \"CIS Controls/Organizational Critical Controls/Application Software Security/2/18.9 - Separate Production and Non-Production Systems\", \"CIS Controls/Organizational Critical Controls/Incident Response and Management/1/19.1 - Document Incident Response Procedures\", \"CIS Controls/Organizational Critical Controls/Incident Response and Management/2/19.2 - Assign Job Titles and Duties for Incident Response\", \"CIS Controls/Organizational Critical Controls/Incident Response and Management/1/19.3 - Designate Management Personnel to Support Incident Handling\", \"CIS Controls/Organizational Critical Controls/Incident Response and Management/2/19.4 - Devise Organization-wide Standards for Reporting Incidents\", \"CIS Controls/Organizational Critical Controls/Incident Response and Management/1/19.5 - Maintain Contact Information For Reporting Security Incidents\", \"CIS Controls/Organizational Critical Controls/Incident Response and Management/1/19.6 - Publish Information Regarding Reporting Computer Anomalies and Incidents\", \"CIS Controls/Organizational Critical Controls/Incident Response and Management/2/19.7 - Conduct Periodic Incident Scenario Sessions for Personnel\", \"CIS Controls/Organizational Critical Controls/Incident Response and Management/3/19.8 - Create Incident Scoring and Prioritization Schema\", \"CIS Controls/Basic Critical Controls/Inventory and Control of Software Assets/1/2.1 - Maintain authorized software inventory\", \"CIS Controls/Basic Critical Controls/Inventory and Control of Software Assets/3/2.10 - Physically or Logically Segregate High Risk Applications\", \"CIS Controls/Basic Critical Controls/Inventory and Control of Software Assets/1/2.2 - Ensure Software is Supported by Vendor\", \"CIS Controls/Basic Critical Controls/Inventory and Control of Software Assets/2/2.3 - Utilize Software Inventory Tools\", \"CIS Controls/Basic Critical Controls/Inventory and Control of Software Assets/2/2.4 - Track Software Inventory Information\", \"CIS Controls/Basic Critical Controls/Inventory and Control of Software Assets/3/2.5 - Integrate Software and Hardware Asset Inventories\", \"CIS Controls/Basic Critical Controls/Inventory and Control of Software Assets/1/2.6 - Address unapproved software\", \"CIS Controls/Basic Critical Controls/Inventory and Control of Software Assets/3/2.7 - Utilize Application Whitelisting\", \"CIS Controls/Basic Critical Controls/Inventory and Control of Software Assets/3/2.8 - Implement Application Whitelisting of Libraries\", \"CIS Controls/Basic Critical Controls/Inventory and Control of Software Assets/3/2.9 - Implement Application Whitelisting of Scripts\", \"CIS Controls/Organizational Critical Controls/Penetration Tests and Red Team Exercises/2/20.1 - Establish a Penetration Testing Program\", \"CIS Controls/Organizational Critical Controls/Penetration Tests and Red Team Exercises/2/20.2 - Conduct Regular External and Internal Penetration Tests\", \"CIS Controls/Organizational Critical Controls/Penetration Tests and Red Team Exercises/3/20.3 - Perform Periodic Red Team Exercises\", \"CIS Controls/Organizational Critical Controls/Penetration Tests and Red Team Exercises/2/20.4 - Include Tests for Presence of Unprotected System Information and Artifacts\", \"CIS Controls/Organizational Critical Controls/Penetration Tests and Red Team Exercises/2/20.5 - Create Test Bed for Elements Not Typically Tested in Production\", \"CIS Controls/Organizational Critical Controls/Penetration Tests and Red Team Exercises/2/20.6 - Use Vulnerability Scanning and Penetration Testing Tools in Concert\", \"CIS Controls/Organizational Critical Controls/Penetration Tests and Red Team Exercises/3/20.7 - Ensure Results from Penetration Test are Documented Using Open, Machine-readable Standards\", \"CIS Controls/Organizational Critical Controls/Penetration Tests and Red Team Exercises/2/20.8 - Control and Monitor Accounts Associated with Penetration Testing\", \"CIS Controls/Basic Critical Controls/Continuous Vulnerability Management/2/3.1 - Run Automated Vulnerability Scanning Tools\", \"CIS Controls/Basic Critical Controls/Continuous Vulnerability Management/2/3.2 - Perform Authenticated Vulnerability Scanning\", \"CIS Controls/Basic Critical Controls/Continuous Vulnerability Management/2/3.3 - Protect Dedicated Assessment Accounts\", \"CIS Controls/Basic Critical Controls/Continuous Vulnerability Management/1/3.4 - Deploy Automated Operating System Patch Management Tools\", \"CIS Controls/Basic Critical Controls/Continuous Vulnerability Management/1/3.5 - Deploy Automated Software Patch Management Tools\", \"CIS Controls/Basic Critical Controls/Continuous Vulnerability Management/2/3.6 - Compare Back-to-Back Vulnerability Scans\", \"CIS Controls/Basic Critical Controls/Continuous Vulnerability Management/2/3.7 - Utilize a Risk-Rating Process\", \"CIS Controls/Basic Critical Controls/Controlled Use of Administrative Privileges/2/4.1 - Maintain Inventory of Administrative Accounts\", \"CIS Controls/Basic Critical Controls/Controlled Use of Administrative Privileges/1/4.2 - Change Default Passwords\", \"CIS Controls/Basic Critical Controls/Controlled Use of Administrative Privileges/1/4.3 - Ensure the Use of Dedicated Administrative Accounts\", \"CIS Controls/Basic Critical Controls/Controlled Use of Administrative Privileges/2/4.4 - Use Unique Passwords\", \"CIS Controls/Basic Critical Controls/Controlled Use of Administrative Privileges/2/4.5 - Use Multi-Factor Authentication for All Administrative Access\", \"CIS Controls/Basic Critical Controls/Controlled Use of Administrative Privileges/3/4.6 - Use Dedicated Workstations For All Administrative Tasks\", \"CIS Controls/Basic Critical Controls/Controlled Use of Administrative Privileges/2/4.7 - Limit Access to Script Tools\", \"CIS Controls/Basic Critical Controls/Controlled Use of Administrative Privileges/2/4.8 - Log and Alert on Changes to Administrative Group Membership\", \"CIS Controls/Basic Critical Controls/Controlled Use of Administrative Privileges/2/4.9 - Log and Alert on Unsuccessful Administrative Account Login\", \"CIS Controls/Basic Critical Controls/Secure Configuration for Hardware and Software on Mobile Devices, Laptops, Workstations and Servers/1/5.1 - Establish Secure Configurations\", \"CIS Controls/Basic Critical Controls/Secure Configuration for Hardware and Software on Mobile Devices, Laptops, Workstations and Servers/2/5.2 - Maintain Secure Images\", \"CIS Controls/Basic Critical Controls/Secure Configuration for Hardware and Software on Mobile Devices, Laptops, Workstations and Servers/2/5.3 - Securely Store Master Images\", \"CIS Controls/Basic Critical Controls/Secure Configuration for Hardware and Software on Mobile Devices, Laptops, Workstations and Servers/2/5.4 - Deploy System Configuration Management Tools\", \"CIS Controls/Basic Critical Controls/Secure Configuration for Hardware and Software on Mobile Devices, Laptops, Workstations and Servers/2/5.5 - Implement Automated Configuration Monitoring Systems\", \"CIS Controls/Basic Critical Controls/Maintenance, Monitoring and Analysis of Audit Logs/2/6.1 - Utilize Three Synchronized Time Sources\", \"CIS Controls/Basic Critical Controls/Maintenance, Monitoring and Analysis of Audit Logs/1/6.2 - Activate Audit Logging\", \"CIS Controls/Basic Critical Controls/Maintenance, Monitoring and Analysis of Audit Logs/2/6.3 - Enable Detailed Logging\", \"CIS Controls/Basic Critical Controls/Maintenance, Monitoring and Analysis of Audit Logs/2/6.4 - Ensure Adequate Storage for Logs\", \"CIS Controls/Basic Critical Controls/Maintenance, Monitoring and Analysis of Audit Logs/2/6.5 - Central Log Management\", \"CIS Controls/Basic Critical Controls/Maintenance, Monitoring and Analysis of Audit Logs/2/6.6 - Deploy SIEM or Log Analytic Tools\", \"CIS Controls/Basic Critical Controls/Maintenance, Monitoring and Analysis of Audit Logs/2/6.7 - Regularly Review Logs\", \"CIS Controls/Basic Critical Controls/Maintenance, Monitoring and Analysis of Audit Logs/3/6.8 - Regularly Tune SIEM\", \"CIS Controls/Foundational Critical Controls/Email and Web Browser Protections/1/7.1 - Ensure Use of Only Fully Supported Browsers and Email Clients\", \"CIS Controls/Foundational Critical Controls/Email and Web Browser Protections/3/7.10 - Sandbox All Email Attachments\", \"CIS Controls/Foundational Critical Controls/Email and Web Browser Protections/2/7.2 - Disable Unnecessary or Unauthorized Browser or Email Client Plugins\", \"CIS Controls/Foundational Critical Controls/Email and Web Browser Protections/2/7.3 - Limit Use of Scripting Languages in Web Browsers and Email Clients\", \"CIS Controls/Foundational Critical Controls/Email and Web Browser Protections/2/7.4 - Maintain and Enforce Network-Based URL Filters\", \"CIS Controls/Foundational Critical Controls/Email and Web Browser Protections/2/7.5 - Subscribe to URL-Categorization Service\", \"CIS Controls/Foundational Critical Controls/Email and Web Browser Protections/2/7.6 - Log All URL requester\", \"CIS Controls/Foundational Critical Controls/Email and Web Browser Protections/1/7.7 - Use of DNS Filtering Services\", \"CIS Controls/Foundational Critical Controls/Email and Web Browser Protections/2/7.8 - Implement DMARC and Enable Receiver-Side Verification\", \"CIS Controls/Foundational Critical Controls/Email and Web Browser Protections/2/7.9 - Block Unnecessary File Types\", \"CIS Controls/Foundational Critical Controls/Malware Defenses/2/8.1 - Utilize Centrally Managed Anti-malware Software\", \"CIS Controls/Foundational Critical Controls/Malware Defenses/1/8.2 - Ensure Anti-Malware Software and Signatures Are Updated\", \"CIS Controls/Foundational Critical Controls/Malware Defenses/2/8.3 - Enable Operating System Anti-Exploitation Features/Deploy Anti-Exploit Technologies\", \"CIS Controls/Foundational Critical Controls/Malware Defenses/1/8.4 - Configure Anti-Malware Scanning of Removable Devices\", \"CIS Controls/Foundational Critical Controls/Malware Defenses/1/8.5 - Configure Devices to Not Auto-Run Content\", \"CIS Controls/Foundational Critical Controls/Malware Defenses/2/8.6 - Centralize Anti-Malware Logging\", \"CIS Controls/Foundational Critical Controls/Malware Defenses/2/8.7 - Enable DNS Query Logging\", \"CIS Controls/Foundational Critical Controls/Malware Defenses/2/8.8 - Enable Command-Line Audit Logging\", \"CIS Controls/Foundational Critical Controls/Limitation and Control of Network Ports, Protocols, and Services/2/9.1 - Associate Active Ports, Services, and Protocols to Asset Inventory\", \"CIS Controls/Foundational Critical Controls/Limitation and Control of Network Ports, Protocols, and Services/2/9.2 - Ensure Only Approved Ports, Protocols, and Services Are Running\", \"CIS Controls/Foundational Critical Controls/Limitation and Control of Network Ports, Protocols, and Services/2/9.3 - Perform Regular Automated Port Scans\", \"CIS Controls/Foundational Critical Controls/Limitation and Control of Network Ports, Protocols, and Services/1/9.4 - Apply Host-Based Firewalls or Port-Filtering\", \"CIS Controls/Foundational Critical Controls/Limitation and Control of Network Ports, Protocols, and Services/3/9.5 - Implement Application Firewalls\", \"CIS Controls/Foundational Critical Controls/Account Monitoring and Control/1\", \"CIS Controls/Foundational Critical Controls/Boundary Defense/1\", \"CIS Controls/Basic Critical Controls/Continuous Vulnerability Management/1\", \"CIS Controls/Foundational Critical Controls/Controlled Access Based on the Need to Know/1\", \"CIS Controls/Basic Critical Controls/Controlled Use of Administrative Privileges/1\", \"CIS Controls/Foundational Critical Controls/Data Protection/1\", \"CIS Controls/Foundational Critical Controls/Data Recovery Capabilities/1\", \"CIS Controls/Foundational Critical Controls/Email and Web Browser Protections/1\", \"CIS Controls/Organizational Critical Controls/Implement a Security Awareness and Training Program/1\", \"CIS Controls/Organizational Critical Controls/Incident Response and Management/1\", \"CIS Controls/Basic Critical Controls/Inventory and Control of Hardware Assets/1\", \"CIS Controls/Basic Critical Controls/Inventory and Control of Software Assets/1\", \"CIS Controls/Foundational Critical Controls/Limitation and Control of Network Ports, Protocols, and Services/1\", \"CIS Controls/Basic Critical Controls/Maintenance, Monitoring and Analysis of Audit Logs/1\", \"CIS Controls/Foundational Critical Controls/Malware Defenses/1\", \"CIS Controls/Basic Critical Controls/Secure Configuration for Hardware and Software on Mobile Devices, Laptops, Workstations and Servers/1\", \"CIS Controls/Foundational Critical Controls/Secure Configuration for Network Devices, such as Firewalls, Routers and Switches/1\", \"CIS Controls/Foundational Critical Controls/Wireless Access Control/1\", \"CIS Controls/Foundational Critical Controls/Account Monitoring and Control/2\", \"CIS Controls/Organizational Critical Controls/Application Software Security/2\", \"CIS Controls/Foundational Critical Controls/Boundary Defense/2\", \"CIS Controls/Basic Critical Controls/Continuous Vulnerability Management/2\", \"CIS Controls/Foundational Critical Controls/Controlled Access Based on the Need to Know/2\", \"CIS Controls/Basic Critical Controls/Controlled Use of Administrative Privileges/2\", \"CIS Controls/Foundational Critical Controls/Data Protection/2\", \"CIS Controls/Foundational Critical Controls/Data Recovery Capabilities/2\", \"CIS Controls/Foundational Critical Controls/Email and Web Browser Protections/2\", \"CIS Controls/Organizational Critical Controls/Implement a Security Awareness and Training Program/2\", \"CIS Controls/Organizational Critical Controls/Incident Response and Management/2\", \"CIS Controls/Basic Critical Controls/Inventory and Control of Hardware Assets/2\", \"CIS Controls/Basic Critical Controls/Inventory and Control of Software Assets/2\", \"CIS Controls/Foundational Critical Controls/Limitation and Control of Network Ports, Protocols, and Services/2\", \"CIS Controls/Basic Critical Controls/Maintenance, Monitoring and Analysis of Audit Logs/2\", \"CIS Controls/Foundational Critical Controls/Malware Defenses/2\", \"CIS Controls/Organizational Critical Controls/Penetration Tests and Red Team Exercises/2\", \"CIS Controls/Basic Critical Controls/Secure Configuration for Hardware and Software on Mobile Devices, Laptops, Workstations and Servers/2\", \"CIS Controls/Foundational Critical Controls/Secure Configuration for Network Devices, such as Firewalls, Routers and Switches/2\", \"CIS Controls/Foundational Critical Controls/Wireless Access Control/2\", \"CIS Controls/Foundational Critical Controls/Account Monitoring and Control/3\", \"CIS Controls/Organizational Critical Controls/Application Software Security/3\", \"CIS Controls/Foundational Critical Controls/Boundary Defense/3\", \"CIS Controls/Foundational Critical Controls/Controlled Access Based on the Need to Know/3\", \"CIS Controls/Basic Critical Controls/Controlled Use of Administrative Privileges/3\", \"CIS Controls/Foundational Critical Controls/Data Protection/3\", \"CIS Controls/Foundational Critical Controls/Email and Web Browser Protections/3\", \"CIS Controls/Organizational Critical Controls/Incident Response and Management/3\", \"CIS Controls/Basic Critical Controls/Inventory and Control of Hardware Assets/3\", \"CIS Controls/Basic Critical Controls/Inventory and Control of Software Assets/3\", \"CIS Controls/Foundational Critical Controls/Limitation and Control of Network Ports, Protocols, and Services/3\", \"CIS Controls/Basic Critical Controls/Maintenance, Monitoring and Analysis of Audit Logs/3\", \"CIS Controls/Organizational Critical Controls/Penetration Tests and Red Team Exercises/3\", \"CIS Controls/Foundational Critical Controls/Wireless Access Control/3\", \"CIS Controls/Foundational Critical Controls/Account Monitoring and Control\", \"CIS Controls/Organizational Critical Controls/Application Software Security\", \"CIS Controls/Foundational Critical Controls/Boundary Defense\", \"CIS Controls/Basic Critical Controls/Continuous Vulnerability Management\", \"CIS Controls/Foundational Critical Controls/Controlled Access Based on the Need to Know\", \"CIS Controls/Basic Critical Controls/Controlled Use of Administrative Privileges\", \"CIS Controls/Foundational Critical Controls/Data Protection\", \"CIS Controls/Foundational Critical Controls/Data Recovery Capabilities\", \"CIS Controls/Foundational Critical Controls/Email and Web Browser Protections\", \"CIS Controls/Organizational Critical Controls/Implement a Security Awareness and Training Program\", \"CIS Controls/Organizational Critical Controls/Incident Response and Management\", \"CIS Controls/Basic Critical Controls/Inventory and Control of Hardware Assets\", \"CIS Controls/Basic Critical Controls/Inventory and Control of Software Assets\", \"CIS Controls/Foundational Critical Controls/Limitation and Control of Network Ports, Protocols, and Services\", \"CIS Controls/Basic Critical Controls/Maintenance, Monitoring and Analysis of Audit Logs\", \"CIS Controls/Foundational Critical Controls/Malware Defenses\", \"CIS Controls/Organizational Critical Controls/Penetration Tests and Red Team Exercises\", \"CIS Controls/Basic Critical Controls/Secure Configuration for Hardware and Software on Mobile Devices, Laptops, Workstations and Servers\", \"CIS Controls/Foundational Critical Controls/Secure Configuration for Network Devices, such as Firewalls, Routers and Switches\", \"CIS Controls/Foundational Critical Controls/Wireless Access Control\", \"CIS Controls/Basic Critical Controls\", \"CIS Controls/Foundational Critical Controls\", \"CIS Controls/Organizational Critical Controls\", \"CIS Controls\"], \"labels\": [\"1.1 - Utilize an Active Discovery Tool\", \"1.2 - Use a Passive Asset Discovery Tool\", \"1.3 - Use DHCP Logging to Update Asset Inventory\", \"1.4 - Maintain Detailed Asset Inventory\", \"1.5 - Maintain Asset Inventory Information\", \"1.6 - Address Unauthorized Assets\", \"1.7 - Deploy Port Level Access Control\", \"1.8 - Utilize Client Certificates to Authenticate Hardware Assets\", \"10.1 - Ensure Regular Automated BackUps\", \"10.2 - Perform Complete System Backups\", \"10.3 - Test Data on Backup Media\", \"10.4 - Protect Backups\", \"10.5 - Ensure All Backups Have at Least One Offline Backup Destination\", \"11.1 - Maintain Standard Security Configurations for Network Devices\", \"11.2 - Document Traffic Configuration Rules\", \"11.3 - Use Automated Tools to Verify Standard Device Configurations and Detect Changes\", \"11.4 - Install the Latest Stable Version of Any Security-Related Updates on All Network Devices\", \"11.5 - Manage Network Devices Using Multi-Factor Authentication and Encrypted Sessions\", \"11.6 - Use Dedicated Machines For All Network Administrative Tasks\", \"11.7 - Manage Network Infrastructure Through a Dedicated Network\", \"12.1 - Maintain an Inventory of Network Boundaries\", \"12.10 - Decrypt Network Traffic at Proxy\", \"12.11 - Require All Remote Login to Use Multi-Factor Authentication\", \"12.12 - Manage All Devices Remotely Logging into Internal Network\", \"12.2 - Scan for Unauthorized Connections Across Trusted Network Boundaries\", \"12.3 - Deny Communications With Known Malicious IP Addresses\", \"12.4 - Deny Communication Over Unauthorized Ports\", \"12.5 - Configure Monitoring Systems to Record Network Packets\", \"12.6 - Deploy Network-Based IDS Sensors\", \"12.7 - Deploy Network-Based Intrusion Prevention Systems\", \"12.8 - Deploy NetFlow Collection on Networking Boundary Devices\", \"12.9 - Deploy Application Layer Filtering Proxy Server\", \"13.1 - Maintain an Inventory of Sensitive Information\", \"13.2 - Remove Sensitive Data or Systems Not Regularly Accessed by Organization\", \"13.3 - Monitor and Block Unauthorized Network Traffic\", \"13.4 - Only Allow Access to Authorized Cloud Storage or Email Providers\", \"13.5 - Monitor and Detect Any Unauthorized Use of Encryption\", \"13.6 - Encrypt Mobile Device Data\", \"13.7 - Manage USB Devices\", \"13.8 - Manage System's External Removable Media's Read/Write Configurations\", \"13.9 - Encrypt Data on USB Storage Devices\", \"14.1 - Segment the Network Based on Sensitivity\", \"14.2 - Enable Firewall Filtering Between VLANs\", \"14.3 - Disable Workstation to Workstation Communication\", \"14.4 - Encrypt All Sensitive Information in Transit\", \"14.5 - Utilize an Active Discovery Tool to Identify Sensitive Data\", \"14.6 - Protect Information Through Access Control Lists\", \"14.7 - Enforce Access Control to Data Through Automated Tools\", \"14.8 - Encrypt Sensitive Information at Rest\", \"14.9 - Enforce Detail Logging for Access or Changes to Sensitive Data\", \"15.1 - Maintain an Inventory of Authorized Wireless Access Points\", \"15.10 - Create Separate Wireless Network for Personal and Untrusted Devices\", \"15.2 - Detect Wireless Access Points Connected to the Wired Network\", \"15.3 - Use a Wireless Intrusion Detection System\", \"15.4 - Disable Wireless Access on Devices if Not Required\", \"15.5 - Limit Wireless Access on Client Devices\", \"15.6 - Disable Peer-to-Peer Wireless Network Capabilities on Wireless Clients\", \"15.7 - Leverage the Advanced Encryption Standard (AES) to Encrypt Wireless Data\", \"15.8 - Use Wireless Authentication Protocols That Require Mutual, Multi-Factor Authentication\", \"15.9 - Disable Wireless Peripheral Access of Devices\", \"16.1 - Maintain an Inventory of Authentication Systems\", \"16.10 - Ensure All Accounts Have An Expiration Date\", \"16.11 - Lock Workstation Sessions After Inactivity\", \"16.12 - Monitor Attempts to Access Deactivated Accounts\", \"16.13 - Alert on Account Login Behavior Deviation\", \"16.2 - Configure Centralized Point of Authentication\", \"16.3 - Require Multi-Factor Authentication\", \"16.4 - Encrypt or Hash all Authentication Credentials\", \"16.5 - Encrypt Transmittal of Username and Authentication Credentials\", \"16.6 - Maintain an Inventory of Accounts\", \"16.7 - Establish Process for Revoking Access\", \"16.8 - Disable Any Unassociated Accounts\", \"16.9 - Disable Dormant Accounts\", \"17.1 - Perform a Skills Gap Analysis\", \"17.2 - Deliver Training to Fill the Skills Gap\", \"17.3 - Implement a Security Awareness Program\", \"17.4 - Update Awareness Content Frequently\", \"17.5 - Train Workforce on Secure Authentication\", \"17.6 - Train Workforce on Identifying Social Engineering Attacks\", \"17.7 - Train Workforce on Sensitive Data Handling\", \"17.8 - Train Workforce on Causes of Unintentional Data Exposure\", \"17.9 - Train Workforce Members on Identifying and Reporting Incidents\", \"18.1 - Deploy Web Application Firewalls\", \"18.1 - Establish Secure Coding Practices\", \"18.11 - Use Standard Hardening Configuration Templates for Databases\", \"18.2 - Ensure That Explicit Error Checking is Performed for All In-House Developed Software\", \"18.3 - Verify That Acquired Software is Still Supported\", \"18.4 - Only Use Up-to-Date and Trusted Third-Party Components\", \"18.5 - Use Only Standardized and Extensively Reviewed Encryption Algorithms\", \"18.6 - Ensure Software Development Personnel are Trained in Secure Coding\", \"18.7 - Apply Static and Dynamic Code Analysis Tools\", \"18.8 - Establish a Process to Accept and Address Reports of Software Vulnerabilities\", \"18.9 - Separate Production and Non-Production Systems\", \"19.1 - Document Incident Response Procedures\", \"19.2 - Assign Job Titles and Duties for Incident Response\", \"19.3 - Designate Management Personnel to Support Incident Handling\", \"19.4 - Devise Organization-wide Standards for Reporting Incidents\", \"19.5 - Maintain Contact Information For Reporting Security Incidents\", \"19.6 - Publish Information Regarding Reporting Computer Anomalies and Incidents\", \"19.7 - Conduct Periodic Incident Scenario Sessions for Personnel\", \"19.8 - Create Incident Scoring and Prioritization Schema\", \"2.1 - Maintain authorized software inventory\", \"2.10 - Physically or Logically Segregate High Risk Applications\", \"2.2 - Ensure Software is Supported by Vendor\", \"2.3 - Utilize Software Inventory Tools\", \"2.4 - Track Software Inventory Information\", \"2.5 - Integrate Software and Hardware Asset Inventories\", \"2.6 - Address unapproved software\", \"2.7 - Utilize Application Whitelisting\", \"2.8 - Implement Application Whitelisting of Libraries\", \"2.9 - Implement Application Whitelisting of Scripts\", \"20.1 - Establish a Penetration Testing Program\", \"20.2 - Conduct Regular External and Internal Penetration Tests\", \"20.3 - Perform Periodic Red Team Exercises\", \"20.4 - Include Tests for Presence of Unprotected System Information and Artifacts\", \"20.5 - Create Test Bed for Elements Not Typically Tested in Production\", \"20.6 - Use Vulnerability Scanning and Penetration Testing Tools in Concert\", \"20.7 - Ensure Results from Penetration Test are Documented Using Open, Machine-readable Standards\", \"20.8 - Control and Monitor Accounts Associated with Penetration Testing\", \"3.1 - Run Automated Vulnerability Scanning Tools\", \"3.2 - Perform Authenticated Vulnerability Scanning\", \"3.3 - Protect Dedicated Assessment Accounts\", \"3.4 - Deploy Automated Operating System Patch Management Tools\", \"3.5 - Deploy Automated Software Patch Management Tools\", \"3.6 - Compare Back-to-Back Vulnerability Scans\", \"3.7 - Utilize a Risk-Rating Process\", \"4.1 - Maintain Inventory of Administrative Accounts\", \"4.2 - Change Default Passwords\", \"4.3 - Ensure the Use of Dedicated Administrative Accounts\", \"4.4 - Use Unique Passwords\", \"4.5 - Use Multi-Factor Authentication for All Administrative Access\", \"4.6 - Use Dedicated Workstations For All Administrative Tasks\", \"4.7 - Limit Access to Script Tools\", \"4.8 - Log and Alert on Changes to Administrative Group Membership\", \"4.9 - Log and Alert on Unsuccessful Administrative Account Login\", \"5.1 - Establish Secure Configurations\", \"5.2 - Maintain Secure Images\", \"5.3 - Securely Store Master Images\", \"5.4 - Deploy System Configuration Management Tools\", \"5.5 - Implement Automated Configuration Monitoring Systems\", \"6.1 - Utilize Three Synchronized Time Sources\", \"6.2 - Activate Audit Logging\", \"6.3 - Enable Detailed Logging\", \"6.4 - Ensure Adequate Storage for Logs\", \"6.5 - Central Log Management\", \"6.6 - Deploy SIEM or Log Analytic Tools\", \"6.7 - Regularly Review Logs\", \"6.8 - Regularly Tune SIEM\", \"7.1 - Ensure Use of Only Fully Supported Browsers and Email Clients\", \"7.10 - Sandbox All Email Attachments\", \"7.2 - Disable Unnecessary or Unauthorized Browser or Email Client Plugins\", \"7.3 - Limit Use of Scripting Languages in Web Browsers and Email Clients\", \"7.4 - Maintain and Enforce Network-Based URL Filters\", \"7.5 - Subscribe to URL-Categorization Service\", \"7.6 - Log All URL requester\", \"7.7 - Use of DNS Filtering Services\", \"7.8 - Implement DMARC and Enable Receiver-Side Verification\", \"7.9 - Block Unnecessary File Types\", \"8.1 - Utilize Centrally Managed Anti-malware Software\", \"8.2 - Ensure Anti-Malware Software and Signatures Are Updated\", \"8.3 - Enable Operating System Anti-Exploitation Features/Deploy Anti-Exploit Technologies\", \"8.4 - Configure Anti-Malware Scanning of Removable Devices\", \"8.5 - Configure Devices to Not Auto-Run Content\", \"8.6 - Centralize Anti-Malware Logging\", \"8.7 - Enable DNS Query Logging\", \"8.8 - Enable Command-Line Audit Logging\", \"9.1 - Associate Active Ports, Services, and Protocols to Asset Inventory\", \"9.2 - Ensure Only Approved Ports, Protocols, and Services Are Running\", \"9.3 - Perform Regular Automated Port Scans\", \"9.4 - Apply Host-Based Firewalls or Port-Filtering\", \"9.5 - Implement Application Firewalls\", \"1\", \"1\", \"1\", \"1\", \"1\", \"1\", \"1\", \"1\", \"1\", \"1\", \"1\", \"1\", \"1\", \"1\", \"1\", \"1\", \"1\", \"1\", \"2\", \"2\", \"2\", \"2\", \"2\", \"2\", \"2\", \"2\", \"2\", \"2\", \"2\", \"2\", \"2\", \"2\", \"2\", \"2\", \"2\", \"2\", \"2\", \"2\", \"3\", \"3\", \"3\", \"3\", \"3\", \"3\", \"3\", \"3\", \"3\", \"3\", \"3\", \"3\", \"3\", \"3\", \"Account Monitoring and Control\", \"Application Software Security\", \"Boundary Defense\", \"Continuous Vulnerability Management\", \"Controlled Access Based on the Need to Know\", \"Controlled Use of Administrative Privileges\", \"Data Protection\", \"Data Recovery Capabilities\", \"Email and Web Browser Protections\", \"Implement a Security Awareness and Training Program\", \"Incident Response and Management\", \"Inventory and Control of Hardware Assets\", \"Inventory and Control of Software Assets\", \"Limitation and Control of Network Ports, Protocols, and Services\", \"Maintenance, Monitoring and Analysis of Audit Logs\", \"Malware Defenses\", \"Penetration Tests and Red Team Exercises\", \"Secure Configuration for Hardware and Software on Mobile Devices, Laptops, Workstations and Servers\", \"Secure Configuration for Network Devices, such as Firewalls, Routers and Switches\", \"Wireless Access Control\", \"Basic Critical Controls\", \"Foundational Critical Controls\", \"Organizational Critical Controls\", \"CIS Controls\"], \"marker\": {\"coloraxis\": \"coloraxis\", \"colors\": [10.0, 7.0, 7.0, 10.0, 9.0, 8.0, 8.0, 7.0, 8.0, 8.0, 9.0, 10.0, 9.0, 7.0, 9.0, 9.0, 8.0, 7.0, 8.0, 10.0, 8.0, 8.0, 10.0, 8.0, 8.0, 10.0, 7.0, 8.0, 7.0, 7.0, 9.0, 9.0, 8.0, 8.0, 8.0, 10.0, 9.0, 10.0, 7.0, 10.0, 9.0, 10.0, 8.0, 9.0, 9.0, 9.0, 9.0, 7.0, 8.0, 7.0, 8.0, 7.0, 9.0, 8.0, 10.0, 9.0, 7.0, 7.0, 8.0, 8.0, 7.0, 7.0, 10.0, 9.0, 8.0, 7.0, 9.0, 8.0, 7.0, 9.0, 8.0, 8.0, 9.0, 9.0, 10.0, 8.0, 8.0, 8.0, 8.0, 9.0, 9.0, 9.0, 7.0, 7.0, 8.0, 10.0, 8.0, 8.0, 9.0, 7.0, 9.0, 8.0, 10.0, 9.0, 7.0, 9.0, 7.0, 8.0, 10.0, 8.0, 10.0, 10.0, 10.0, 7.0, 8.0, 8.0, 10.0, 9.0, 7.0, 9.0, 8.0, 8.0, 9.0, 8.0, 7.0, 10.0, 10.0, 7.0, 7.0, 10.0, 7.0, 10.0, 9.0, 10.0, 9.0, 10.0, 9.0, 7.0, 7.0, 7.0, 8.0, 7.0, 9.0, 9.0, 9.0, 9.0, 7.0, 10.0, 10.0, 7.0, 10.0, 8.0, 10.0, 8.0, 7.0, 10.0, 7.0, 7.0, 7.0, 9.0, 8.0, 8.0, 10.0, 8.0, 10.0, 10.0, 10.0, 7.0, 7.0, 7.0, 7.0, 10.0, 10.0, 7.0, 10.0, 9.0, 9.0, 10.0, 9.0, 8.0, 8.0, 9.0, 7.5, 9.5, 9.0, 7.0, 8.666666666666666, 8.75, 8.5, 8.5, 9.0, 9.0, 8.666666666666666, 8.0, 8.0, 9.0, 9.0, 8.0, 7.0, 7.888888888888889, 8.3, 8.666666666666666, 9.2, 9.0, 8.5, 8.5, 9.0, 8.714285714285714, 9.0, 7.333333333333333, 8.5, 8.0, 9.333333333333334, 8.666666666666666, 8.0, 8.5, 8.5, 8.333333333333334, 8.0, 8.0, 8.0, 8.0, 7.75, 7.0, 9.0, 9.0, 10.0, 7.0, 8.8, 8.0, 7.0, 7.5, 9.0, 8.153846153846153, 8.272727272727273, 8.25, 9.285714285714286, 8.444444444444445, 8.0, 8.777777777777779, 8.8, 8.7, 8.666666666666666, 8.5, 8.25, 8.6, 8.8, 8.375, 8.375, 8.25, 8.6, 8.285714285714286, 8.1, 8.48936170212766, 8.420454545454545, 8.416666666666666, 8.43859649122807]}, \"name\": \"\", \"parents\": [\"CIS Controls/Basic Critical Controls/Inventory and Control of Hardware Assets/2\", \"CIS Controls/Basic Critical Controls/Inventory and Control of Hardware Assets/3\", \"CIS Controls/Basic Critical Controls/Inventory and Control of Hardware Assets/2\", \"CIS Controls/Basic Critical Controls/Inventory and Control of Hardware Assets/1\", \"CIS Controls/Basic Critical Controls/Inventory and Control of Hardware Assets/2\", \"CIS Controls/Basic Critical Controls/Inventory and Control of Hardware Assets/1\", \"CIS Controls/Basic Critical Controls/Inventory and Control of Hardware Assets/2\", \"CIS Controls/Basic Critical Controls/Inventory and Control of Hardware Assets/3\", \"CIS Controls/Foundational Critical Controls/Data Recovery Capabilities/1\", \"CIS Controls/Foundational Critical Controls/Data Recovery Capabilities/1\", \"CIS Controls/Foundational Critical Controls/Data Recovery Capabilities/2\", \"CIS Controls/Foundational Critical Controls/Data Recovery Capabilities/1\", \"CIS Controls/Foundational Critical Controls/Data Recovery Capabilities/1\", \"CIS Controls/Foundational Critical Controls/Secure Configuration for Network Devices, such as Firewalls, Routers and Switches/2\", \"CIS Controls/Foundational Critical Controls/Secure Configuration for Network Devices, such as Firewalls, Routers and Switches/2\", \"CIS Controls/Foundational Critical Controls/Secure Configuration for Network Devices, such as Firewalls, Routers and Switches/2\", \"CIS Controls/Foundational Critical Controls/Secure Configuration for Network Devices, such as Firewalls, Routers and Switches/1\", \"CIS Controls/Foundational Critical Controls/Secure Configuration for Network Devices, such as Firewalls, Routers and Switches/2\", \"CIS Controls/Foundational Critical Controls/Secure Configuration for Network Devices, such as Firewalls, Routers and Switches/2\", \"CIS Controls/Foundational Critical Controls/Secure Configuration for Network Devices, such as Firewalls, Routers and Switches/2\", \"CIS Controls/Foundational Critical Controls/Boundary Defense/1\", \"CIS Controls/Foundational Critical Controls/Boundary Defense/3\", \"CIS Controls/Foundational Critical Controls/Boundary Defense/2\", \"CIS Controls/Foundational Critical Controls/Boundary Defense/3\", \"CIS Controls/Foundational Critical Controls/Boundary Defense/2\", \"CIS Controls/Foundational Critical Controls/Boundary Defense/2\", \"CIS Controls/Foundational Critical Controls/Boundary Defense/1\", \"CIS Controls/Foundational Critical Controls/Boundary Defense/2\", \"CIS Controls/Foundational Critical Controls/Boundary Defense/2\", \"CIS Controls/Foundational Critical Controls/Boundary Defense/3\", \"CIS Controls/Foundational Critical Controls/Boundary Defense/2\", \"CIS Controls/Foundational Critical Controls/Boundary Defense/3\", \"CIS Controls/Foundational Critical Controls/Data Protection/1\", \"CIS Controls/Foundational Critical Controls/Data Protection/1\", \"CIS Controls/Foundational Critical Controls/Data Protection/3\", \"CIS Controls/Foundational Critical Controls/Data Protection/2\", \"CIS Controls/Foundational Critical Controls/Data Protection/3\", \"CIS Controls/Foundational Critical Controls/Data Protection/1\", \"CIS Controls/Foundational Critical Controls/Data Protection/2\", \"CIS Controls/Foundational Critical Controls/Data Protection/3\", \"CIS Controls/Foundational Critical Controls/Data Protection/3\", \"CIS Controls/Foundational Critical Controls/Controlled Access Based on the Need to Know/2\", \"CIS Controls/Foundational Critical Controls/Controlled Access Based on the Need to Know/2\", \"CIS Controls/Foundational Critical Controls/Controlled Access Based on the Need to Know/2\", \"CIS Controls/Foundational Critical Controls/Controlled Access Based on the Need to Know/2\", \"CIS Controls/Foundational Critical Controls/Controlled Access Based on the Need to Know/3\", \"CIS Controls/Foundational Critical Controls/Controlled Access Based on the Need to Know/1\", \"CIS Controls/Foundational Critical Controls/Controlled Access Based on the Need to Know/3\", \"CIS Controls/Foundational Critical Controls/Controlled Access Based on the Need to Know/3\", \"CIS Controls/Foundational Critical Controls/Controlled Access Based on the Need to Know/3\", \"CIS Controls/Foundational Critical Controls/Wireless Access Control/2\", \"CIS Controls/Foundational Critical Controls/Wireless Access Control/1\", \"CIS Controls/Foundational Critical Controls/Wireless Access Control/2\", \"CIS Controls/Foundational Critical Controls/Wireless Access Control/2\", \"CIS Controls/Foundational Critical Controls/Wireless Access Control/3\", \"CIS Controls/Foundational Critical Controls/Wireless Access Control/3\", \"CIS Controls/Foundational Critical Controls/Wireless Access Control/2\", \"CIS Controls/Foundational Critical Controls/Wireless Access Control/1\", \"CIS Controls/Foundational Critical Controls/Wireless Access Control/3\", \"CIS Controls/Foundational Critical Controls/Wireless Access Control/2\", \"CIS Controls/Foundational Critical Controls/Account Monitoring and Control/2\", \"CIS Controls/Foundational Critical Controls/Account Monitoring and Control/2\", \"CIS Controls/Foundational Critical Controls/Account Monitoring and Control/1\", \"CIS Controls/Foundational Critical Controls/Account Monitoring and Control/2\", \"CIS Controls/Foundational Critical Controls/Account Monitoring and Control/3\", \"CIS Controls/Foundational Critical Controls/Account Monitoring and Control/2\", \"CIS Controls/Foundational Critical Controls/Account Monitoring and Control/2\", \"CIS Controls/Foundational Critical Controls/Account Monitoring and Control/2\", \"CIS Controls/Foundational Critical Controls/Account Monitoring and Control/2\", \"CIS Controls/Foundational Critical Controls/Account Monitoring and Control/2\", \"CIS Controls/Foundational Critical Controls/Account Monitoring and Control/2\", \"CIS Controls/Foundational Critical Controls/Account Monitoring and Control/1\", \"CIS Controls/Foundational Critical Controls/Account Monitoring and Control/1\", \"CIS Controls/Organizational Critical Controls/Implement a Security Awareness and Training Program/2\", \"CIS Controls/Organizational Critical Controls/Implement a Security Awareness and Training Program/2\", \"CIS Controls/Organizational Critical Controls/Implement a Security Awareness and Training Program/1\", \"CIS Controls/Organizational Critical Controls/Implement a Security Awareness and Training Program/2\", \"CIS Controls/Organizational Critical Controls/Implement a Security Awareness and Training Program/1\", \"CIS Controls/Organizational Critical Controls/Implement a Security Awareness and Training Program/1\", \"CIS Controls/Organizational Critical Controls/Implement a Security Awareness and Training Program/1\", \"CIS Controls/Organizational Critical Controls/Implement a Security Awareness and Training Program/1\", \"CIS Controls/Organizational Critical Controls/Implement a Security Awareness and Training Program/1\", \"CIS Controls/Organizational Critical Controls/Application Software Security/2\", \"CIS Controls/Organizational Critical Controls/Application Software Security/2\", \"CIS Controls/Organizational Critical Controls/Application Software Security/2\", \"CIS Controls/Organizational Critical Controls/Application Software Security/2\", \"CIS Controls/Organizational Critical Controls/Application Software Security/2\", \"CIS Controls/Organizational Critical Controls/Application Software Security/3\", \"CIS Controls/Organizational Critical Controls/Application Software Security/2\", \"CIS Controls/Organizational Critical Controls/Application Software Security/2\", \"CIS Controls/Organizational Critical Controls/Application Software Security/2\", \"CIS Controls/Organizational Critical Controls/Application Software Security/2\", \"CIS Controls/Organizational Critical Controls/Application Software Security/2\", \"CIS Controls/Organizational Critical Controls/Incident Response and Management/1\", \"CIS Controls/Organizational Critical Controls/Incident Response and Management/2\", \"CIS Controls/Organizational Critical Controls/Incident Response and Management/1\", \"CIS Controls/Organizational Critical Controls/Incident Response and Management/2\", \"CIS Controls/Organizational Critical Controls/Incident Response and Management/1\", \"CIS Controls/Organizational Critical Controls/Incident Response and Management/1\", \"CIS Controls/Organizational Critical Controls/Incident Response and Management/2\", \"CIS Controls/Organizational Critical Controls/Incident Response and Management/3\", \"CIS Controls/Basic Critical Controls/Inventory and Control of Software Assets/1\", \"CIS Controls/Basic Critical Controls/Inventory and Control of Software Assets/3\", \"CIS Controls/Basic Critical Controls/Inventory and Control of Software Assets/1\", \"CIS Controls/Basic Critical Controls/Inventory and Control of Software Assets/2\", \"CIS Controls/Basic Critical Controls/Inventory and Control of Software Assets/2\", \"CIS Controls/Basic Critical Controls/Inventory and Control of Software Assets/3\", \"CIS Controls/Basic Critical Controls/Inventory and Control of Software Assets/1\", \"CIS Controls/Basic Critical Controls/Inventory and Control of Software Assets/3\", \"CIS Controls/Basic Critical Controls/Inventory and Control of Software Assets/3\", \"CIS Controls/Basic Critical Controls/Inventory and Control of Software Assets/3\", \"CIS Controls/Organizational Critical Controls/Penetration Tests and Red Team Exercises/2\", \"CIS Controls/Organizational Critical Controls/Penetration Tests and Red Team Exercises/2\", \"CIS Controls/Organizational Critical Controls/Penetration Tests and Red Team Exercises/3\", \"CIS Controls/Organizational Critical Controls/Penetration Tests and Red Team Exercises/2\", \"CIS Controls/Organizational Critical Controls/Penetration Tests and Red Team Exercises/2\", \"CIS Controls/Organizational Critical Controls/Penetration Tests and Red Team Exercises/2\", \"CIS Controls/Organizational Critical Controls/Penetration Tests and Red Team Exercises/3\", \"CIS Controls/Organizational Critical Controls/Penetration Tests and Red Team Exercises/2\", \"CIS Controls/Basic Critical Controls/Continuous Vulnerability Management/2\", \"CIS Controls/Basic Critical Controls/Continuous Vulnerability Management/2\", \"CIS Controls/Basic Critical Controls/Continuous Vulnerability Management/2\", \"CIS Controls/Basic Critical Controls/Continuous Vulnerability Management/1\", \"CIS Controls/Basic Critical Controls/Continuous Vulnerability Management/1\", \"CIS Controls/Basic Critical Controls/Continuous Vulnerability Management/2\", \"CIS Controls/Basic Critical Controls/Continuous Vulnerability Management/2\", \"CIS Controls/Basic Critical Controls/Controlled Use of Administrative Privileges/2\", \"CIS Controls/Basic Critical Controls/Controlled Use of Administrative Privileges/1\", \"CIS Controls/Basic Critical Controls/Controlled Use of Administrative Privileges/1\", \"CIS Controls/Basic Critical Controls/Controlled Use of Administrative Privileges/2\", \"CIS Controls/Basic Critical Controls/Controlled Use of Administrative Privileges/2\", \"CIS Controls/Basic Critical Controls/Controlled Use of Administrative Privileges/3\", \"CIS Controls/Basic Critical Controls/Controlled Use of Administrative Privileges/2\", \"CIS Controls/Basic Critical Controls/Controlled Use of Administrative Privileges/2\", \"CIS Controls/Basic Critical Controls/Controlled Use of Administrative Privileges/2\", \"CIS Controls/Basic Critical Controls/Secure Configuration for Hardware and Software on Mobile Devices, Laptops, Workstations and Servers/1\", \"CIS Controls/Basic Critical Controls/Secure Configuration for Hardware and Software on Mobile Devices, Laptops, Workstations and Servers/2\", \"CIS Controls/Basic Critical Controls/Secure Configuration for Hardware and Software on Mobile Devices, Laptops, Workstations and Servers/2\", \"CIS Controls/Basic Critical Controls/Secure Configuration for Hardware and Software on Mobile Devices, Laptops, Workstations and Servers/2\", \"CIS Controls/Basic Critical Controls/Secure Configuration for Hardware and Software on Mobile Devices, Laptops, Workstations and Servers/2\", \"CIS Controls/Basic Critical Controls/Maintenance, Monitoring and Analysis of Audit Logs/2\", \"CIS Controls/Basic Critical Controls/Maintenance, Monitoring and Analysis of Audit Logs/1\", \"CIS Controls/Basic Critical Controls/Maintenance, Monitoring and Analysis of Audit Logs/2\", \"CIS Controls/Basic Critical Controls/Maintenance, Monitoring and Analysis of Audit Logs/2\", \"CIS Controls/Basic Critical Controls/Maintenance, Monitoring and Analysis of Audit Logs/2\", \"CIS Controls/Basic Critical Controls/Maintenance, Monitoring and Analysis of Audit Logs/2\", \"CIS Controls/Basic Critical Controls/Maintenance, Monitoring and Analysis of Audit Logs/2\", \"CIS Controls/Basic Critical Controls/Maintenance, Monitoring and Analysis of Audit Logs/3\", \"CIS Controls/Foundational Critical Controls/Email and Web Browser Protections/1\", \"CIS Controls/Foundational Critical Controls/Email and Web Browser Protections/3\", \"CIS Controls/Foundational Critical Controls/Email and Web Browser Protections/2\", \"CIS Controls/Foundational Critical Controls/Email and Web Browser Protections/2\", \"CIS Controls/Foundational Critical Controls/Email and Web Browser Protections/2\", \"CIS Controls/Foundational Critical Controls/Email and Web Browser Protections/2\", \"CIS Controls/Foundational Critical Controls/Email and Web Browser Protections/2\", \"CIS Controls/Foundational Critical Controls/Email and Web Browser Protections/1\", \"CIS Controls/Foundational Critical Controls/Email and Web Browser Protections/2\", \"CIS Controls/Foundational Critical Controls/Email and Web Browser Protections/2\", \"CIS Controls/Foundational Critical Controls/Malware Defenses/2\", \"CIS Controls/Foundational Critical Controls/Malware Defenses/1\", \"CIS Controls/Foundational Critical Controls/Malware Defenses/2\", \"CIS Controls/Foundational Critical Controls/Malware Defenses/1\", \"CIS Controls/Foundational Critical Controls/Malware Defenses/1\", \"CIS Controls/Foundational Critical Controls/Malware Defenses/2\", \"CIS Controls/Foundational Critical Controls/Malware Defenses/2\", \"CIS Controls/Foundational Critical Controls/Malware Defenses/2\", \"CIS Controls/Foundational Critical Controls/Limitation and Control of Network Ports, Protocols, and Services/2\", \"CIS Controls/Foundational Critical Controls/Limitation and Control of Network Ports, Protocols, and Services/2\", \"CIS Controls/Foundational Critical Controls/Limitation and Control of Network Ports, Protocols, and Services/2\", \"CIS Controls/Foundational Critical Controls/Limitation and Control of Network Ports, Protocols, and Services/1\", \"CIS Controls/Foundational Critical Controls/Limitation and Control of Network Ports, Protocols, and Services/3\", \"CIS Controls/Foundational Critical Controls/Account Monitoring and Control\", \"CIS Controls/Foundational Critical Controls/Boundary Defense\", \"CIS Controls/Basic Critical Controls/Continuous Vulnerability Management\", \"CIS Controls/Foundational Critical Controls/Controlled Access Based on the Need to Know\", \"CIS Controls/Basic Critical Controls/Controlled Use of Administrative Privileges\", \"CIS Controls/Foundational Critical Controls/Data Protection\", \"CIS Controls/Foundational Critical Controls/Data Recovery Capabilities\", \"CIS Controls/Foundational Critical Controls/Email and Web Browser Protections\", \"CIS Controls/Organizational Critical Controls/Implement a Security Awareness and Training Program\", \"CIS Controls/Organizational Critical Controls/Incident Response and Management\", \"CIS Controls/Basic Critical Controls/Inventory and Control of Hardware Assets\", \"CIS Controls/Basic Critical Controls/Inventory and Control of Software Assets\", \"CIS Controls/Foundational Critical Controls/Limitation and Control of Network Ports, Protocols, and Services\", \"CIS Controls/Basic Critical Controls/Maintenance, Monitoring and Analysis of Audit Logs\", \"CIS Controls/Foundational Critical Controls/Malware Defenses\", \"CIS Controls/Basic Critical Controls/Secure Configuration for Hardware and Software on Mobile Devices, Laptops, Workstations and Servers\", \"CIS Controls/Foundational Critical Controls/Secure Configuration for Network Devices, such as Firewalls, Routers and Switches\", \"CIS Controls/Foundational Critical Controls/Wireless Access Control\", \"CIS Controls/Foundational Critical Controls/Account Monitoring and Control\", \"CIS Controls/Organizational Critical Controls/Application Software Security\", \"CIS Controls/Foundational Critical Controls/Boundary Defense\", \"CIS Controls/Basic Critical Controls/Continuous Vulnerability Management\", \"CIS Controls/Foundational Critical Controls/Controlled Access Based on the Need to Know\", \"CIS Controls/Basic Critical Controls/Controlled Use of Administrative Privileges\", \"CIS Controls/Foundational Critical Controls/Data Protection\", \"CIS Controls/Foundational Critical Controls/Data Recovery Capabilities\", \"CIS Controls/Foundational Critical Controls/Email and Web Browser Protections\", \"CIS Controls/Organizational Critical Controls/Implement a Security Awareness and Training Program\", \"CIS Controls/Organizational Critical Controls/Incident Response and Management\", \"CIS Controls/Basic Critical Controls/Inventory and Control of Hardware Assets\", \"CIS Controls/Basic Critical Controls/Inventory and Control of Software Assets\", \"CIS Controls/Foundational Critical Controls/Limitation and Control of Network Ports, Protocols, and Services\", \"CIS Controls/Basic Critical Controls/Maintenance, Monitoring and Analysis of Audit Logs\", \"CIS Controls/Foundational Critical Controls/Malware Defenses\", \"CIS Controls/Organizational Critical Controls/Penetration Tests and Red Team Exercises\", \"CIS Controls/Basic Critical Controls/Secure Configuration for Hardware and Software on Mobile Devices, Laptops, Workstations and Servers\", \"CIS Controls/Foundational Critical Controls/Secure Configuration for Network Devices, such as Firewalls, Routers and Switches\", \"CIS Controls/Foundational Critical Controls/Wireless Access Control\", \"CIS Controls/Foundational Critical Controls/Account Monitoring and Control\", \"CIS Controls/Organizational Critical Controls/Application Software Security\", \"CIS Controls/Foundational Critical Controls/Boundary Defense\", \"CIS Controls/Foundational Critical Controls/Controlled Access Based on the Need to Know\", \"CIS Controls/Basic Critical Controls/Controlled Use of Administrative Privileges\", \"CIS Controls/Foundational Critical Controls/Data Protection\", \"CIS Controls/Foundational Critical Controls/Email and Web Browser Protections\", \"CIS Controls/Organizational Critical Controls/Incident Response and Management\", \"CIS Controls/Basic Critical Controls/Inventory and Control of Hardware Assets\", \"CIS Controls/Basic Critical Controls/Inventory and Control of Software Assets\", \"CIS Controls/Foundational Critical Controls/Limitation and Control of Network Ports, Protocols, and Services\", \"CIS Controls/Basic Critical Controls/Maintenance, Monitoring and Analysis of Audit Logs\", \"CIS Controls/Organizational Critical Controls/Penetration Tests and Red Team Exercises\", \"CIS Controls/Foundational Critical Controls/Wireless Access Control\", \"CIS Controls/Foundational Critical Controls\", \"CIS Controls/Organizational Critical Controls\", \"CIS Controls/Foundational Critical Controls\", \"CIS Controls/Basic Critical Controls\", \"CIS Controls/Foundational Critical Controls\", \"CIS Controls/Basic Critical Controls\", \"CIS Controls/Foundational Critical Controls\", \"CIS Controls/Foundational Critical Controls\", \"CIS Controls/Foundational Critical Controls\", \"CIS Controls/Organizational Critical Controls\", \"CIS Controls/Organizational Critical Controls\", \"CIS Controls/Basic Critical Controls\", \"CIS Controls/Basic Critical Controls\", \"CIS Controls/Foundational Critical Controls\", \"CIS Controls/Basic Critical Controls\", \"CIS Controls/Foundational Critical Controls\", \"CIS Controls/Organizational Critical Controls\", \"CIS Controls/Basic Critical Controls\", \"CIS Controls/Foundational Critical Controls\", \"CIS Controls/Foundational Critical Controls\", \"CIS Controls\", \"CIS Controls\", \"CIS Controls\", \"\"], \"type\": \"treemap\", \"values\": [1, 1, 1, 1, 1, 1, 1, 1, 1, 1, 1, 1, 1, 1, 1, 1, 1, 1, 1, 1, 1, 1, 1, 1, 1, 1, 1, 1, 1, 1, 1, 1, 1, 1, 1, 1, 1, 1, 1, 1, 1, 1, 1, 1, 1, 1, 1, 1, 1, 1, 1, 1, 1, 1, 1, 1, 1, 1, 1, 1, 1, 1, 1, 1, 1, 1, 1, 1, 1, 1, 1, 1, 1, 1, 1, 1, 1, 1, 1, 1, 1, 1, 1, 1, 1, 1, 1, 1, 1, 1, 1, 1, 1, 1, 1, 1, 1, 1, 1, 1, 1, 1, 1, 1, 1, 1, 1, 1, 1, 1, 1, 1, 1, 1, 1, 1, 1, 1, 1, 1, 1, 1, 1, 1, 1, 1, 1, 1, 1, 1, 1, 1, 1, 1, 1, 1, 1, 1, 1, 1, 1, 1, 1, 1, 1, 1, 1, 1, 1, 1, 1, 1, 1, 1, 1, 1, 1, 1, 1, 1, 1, 1, 1, 1, 1, 1, 1, 1, 1, 1, 1, 3, 2, 2, 1, 2, 3, 4, 2, 6, 4, 2, 3, 1, 1, 3, 1, 1, 2, 9, 10, 6, 5, 4, 6, 2, 1, 7, 3, 3, 4, 2, 3, 6, 5, 6, 4, 6, 5, 1, 1, 4, 4, 1, 4, 1, 1, 2, 5, 1, 1, 2, 3, 13, 11, 12, 7, 9, 9, 9, 5, 10, 9, 8, 8, 10, 5, 8, 8, 8, 5, 7, 10, 47, 88, 36, 171]}],                        {\"coloraxis\": {\"cmid\": 8.43859649122807, \"colorbar\": {\"title\": {\"text\": \"Mark\"}}, \"colorscale\": [[0.0, \"rgb(103,0,31)\"], [0.1, \"rgb(178,24,43)\"], [0.2, \"rgb(214,96,77)\"], [0.3, \"rgb(244,165,130)\"], [0.4, \"rgb(253,219,199)\"], [0.5, \"rgb(247,247,247)\"], [0.6, \"rgb(209,229,240)\"], [0.7, \"rgb(146,197,222)\"], [0.8, \"rgb(67,147,195)\"], [0.9, \"rgb(33,102,172)\"], [1.0, \"rgb(5,48,97)\"]]}, \"hovermode\": false, \"legend\": {\"tracegroupgap\": 0}, \"margin\": {\"t\": 60}, \"template\": {\"data\": {\"bar\": [{\"error_x\": {\"color\": \"#2a3f5f\"}, \"error_y\": {\"color\": \"#2a3f5f\"}, \"marker\": {\"line\": {\"color\": \"#E5ECF6\", \"width\": 0.5}}, \"type\": \"bar\"}], \"barpolar\": [{\"marker\": {\"line\": {\"color\": \"#E5ECF6\", \"width\": 0.5}}, \"type\": \"barpolar\"}], \"carpet\": [{\"aaxis\": {\"endlinecolor\": \"#2a3f5f\", \"gridcolor\": \"white\", \"linecolor\": \"white\", \"minorgridcolor\": \"white\", \"startlinecolor\": \"#2a3f5f\"}, \"baxis\": {\"endlinecolor\": \"#2a3f5f\", \"gridcolor\": \"white\", \"linecolor\": \"white\", \"minorgridcolor\": \"white\", \"startlinecolor\": \"#2a3f5f\"}, \"type\": \"carpet\"}], \"choropleth\": [{\"colorbar\": {\"outlinewidth\": 0, \"ticks\": \"\"}, \"type\": \"choropleth\"}], \"contour\": [{\"colorbar\": {\"outlinewidth\": 0, \"ticks\": \"\"}, \"colorscale\": [[0.0, \"#0d0887\"], [0.1111111111111111, \"#46039f\"], [0.2222222222222222, \"#7201a8\"], [0.3333333333333333, \"#9c179e\"], [0.4444444444444444, \"#bd3786\"], [0.5555555555555556, \"#d8576b\"], [0.6666666666666666, \"#ed7953\"], [0.7777777777777778, \"#fb9f3a\"], [0.8888888888888888, \"#fdca26\"], [1.0, \"#f0f921\"]], \"type\": \"contour\"}], \"contourcarpet\": [{\"colorbar\": {\"outlinewidth\": 0, \"ticks\": \"\"}, \"type\": \"contourcarpet\"}], \"heatmap\": [{\"colorbar\": {\"outlinewidth\": 0, \"ticks\": \"\"}, \"colorscale\": [[0.0, \"#0d0887\"], [0.1111111111111111, \"#46039f\"], [0.2222222222222222, \"#7201a8\"], [0.3333333333333333, \"#9c179e\"], [0.4444444444444444, \"#bd3786\"], [0.5555555555555556, \"#d8576b\"], [0.6666666666666666, \"#ed7953\"], [0.7777777777777778, \"#fb9f3a\"], [0.8888888888888888, \"#fdca26\"], [1.0, \"#f0f921\"]], \"type\": \"heatmap\"}], \"heatmapgl\": [{\"colorbar\": {\"outlinewidth\": 0, \"ticks\": \"\"}, \"colorscale\": [[0.0, \"#0d0887\"], [0.1111111111111111, \"#46039f\"], [0.2222222222222222, \"#7201a8\"], [0.3333333333333333, \"#9c179e\"], [0.4444444444444444, \"#bd3786\"], [0.5555555555555556, \"#d8576b\"], [0.6666666666666666, \"#ed7953\"], [0.7777777777777778, \"#fb9f3a\"], [0.8888888888888888, \"#fdca26\"], [1.0, \"#f0f921\"]], \"type\": \"heatmapgl\"}], \"histogram\": [{\"marker\": {\"colorbar\": {\"outlinewidth\": 0, \"ticks\": \"\"}}, \"type\": \"histogram\"}], \"histogram2d\": [{\"colorbar\": {\"outlinewidth\": 0, \"ticks\": \"\"}, \"colorscale\": [[0.0, \"#0d0887\"], [0.1111111111111111, \"#46039f\"], [0.2222222222222222, \"#7201a8\"], [0.3333333333333333, \"#9c179e\"], [0.4444444444444444, \"#bd3786\"], [0.5555555555555556, \"#d8576b\"], [0.6666666666666666, \"#ed7953\"], [0.7777777777777778, \"#fb9f3a\"], [0.8888888888888888, \"#fdca26\"], [1.0, \"#f0f921\"]], \"type\": \"histogram2d\"}], \"histogram2dcontour\": [{\"colorbar\": {\"outlinewidth\": 0, \"ticks\": \"\"}, \"colorscale\": [[0.0, \"#0d0887\"], [0.1111111111111111, \"#46039f\"], [0.2222222222222222, \"#7201a8\"], [0.3333333333333333, \"#9c179e\"], [0.4444444444444444, \"#bd3786\"], [0.5555555555555556, \"#d8576b\"], [0.6666666666666666, \"#ed7953\"], [0.7777777777777778, \"#fb9f3a\"], [0.8888888888888888, \"#fdca26\"], [1.0, \"#f0f921\"]], \"type\": \"histogram2dcontour\"}], \"mesh3d\": [{\"colorbar\": {\"outlinewidth\": 0, \"ticks\": \"\"}, \"type\": \"mesh3d\"}], \"parcoords\": [{\"line\": {\"colorbar\": {\"outlinewidth\": 0, \"ticks\": \"\"}}, \"type\": \"parcoords\"}], \"pie\": [{\"automargin\": true, \"type\": \"pie\"}], \"scatter\": [{\"marker\": {\"colorbar\": {\"outlinewidth\": 0, \"ticks\": \"\"}}, \"type\": \"scatter\"}], \"scatter3d\": [{\"line\": {\"colorbar\": {\"outlinewidth\": 0, \"ticks\": \"\"}}, \"marker\": {\"colorbar\": {\"outlinewidth\": 0, \"ticks\": \"\"}}, \"type\": \"scatter3d\"}], \"scattercarpet\": [{\"marker\": {\"colorbar\": {\"outlinewidth\": 0, \"ticks\": \"\"}}, \"type\": \"scattercarpet\"}], \"scattergeo\": [{\"marker\": {\"colorbar\": {\"outlinewidth\": 0, \"ticks\": \"\"}}, \"type\": \"scattergeo\"}], \"scattergl\": [{\"marker\": {\"colorbar\": {\"outlinewidth\": 0, \"ticks\": \"\"}}, \"type\": \"scattergl\"}], \"scattermapbox\": [{\"marker\": {\"colorbar\": {\"outlinewidth\": 0, \"ticks\": \"\"}}, \"type\": \"scattermapbox\"}], \"scatterpolar\": [{\"marker\": {\"colorbar\": {\"outlinewidth\": 0, \"ticks\": \"\"}}, \"type\": \"scatterpolar\"}], \"scatterpolargl\": [{\"marker\": {\"colorbar\": {\"outlinewidth\": 0, \"ticks\": \"\"}}, \"type\": \"scatterpolargl\"}], \"scatterternary\": [{\"marker\": {\"colorbar\": {\"outlinewidth\": 0, \"ticks\": \"\"}}, \"type\": \"scatterternary\"}], \"surface\": [{\"colorbar\": {\"outlinewidth\": 0, \"ticks\": \"\"}, \"colorscale\": [[0.0, \"#0d0887\"], [0.1111111111111111, \"#46039f\"], [0.2222222222222222, \"#7201a8\"], [0.3333333333333333, \"#9c179e\"], [0.4444444444444444, \"#bd3786\"], [0.5555555555555556, \"#d8576b\"], [0.6666666666666666, \"#ed7953\"], [0.7777777777777778, \"#fb9f3a\"], [0.8888888888888888, \"#fdca26\"], [1.0, \"#f0f921\"]], \"type\": \"surface\"}], \"table\": [{\"cells\": {\"fill\": {\"color\": \"#EBF0F8\"}, \"line\": {\"color\": \"white\"}}, \"header\": {\"fill\": {\"color\": \"#C8D4E3\"}, \"line\": {\"color\": \"white\"}}, \"type\": \"table\"}]}, \"layout\": {\"annotationdefaults\": {\"arrowcolor\": \"#2a3f5f\", \"arrowhead\": 0, \"arrowwidth\": 1}, \"coloraxis\": {\"colorbar\": {\"outlinewidth\": 0, \"ticks\": \"\"}}, \"colorscale\": {\"diverging\": [[0, \"#8e0152\"], [0.1, \"#c51b7d\"], [0.2, \"#de77ae\"], [0.3, \"#f1b6da\"], [0.4, \"#fde0ef\"], [0.5, \"#f7f7f7\"], [0.6, \"#e6f5d0\"], [0.7, \"#b8e186\"], [0.8, \"#7fbc41\"], [0.9, \"#4d9221\"], [1, \"#276419\"]], \"sequential\": [[0.0, \"#0d0887\"], [0.1111111111111111, \"#46039f\"], [0.2222222222222222, \"#7201a8\"], [0.3333333333333333, \"#9c179e\"], [0.4444444444444444, \"#bd3786\"], [0.5555555555555556, \"#d8576b\"], [0.6666666666666666, \"#ed7953\"], [0.7777777777777778, \"#fb9f3a\"], [0.8888888888888888, \"#fdca26\"], [1.0, \"#f0f921\"]], \"sequentialminus\": [[0.0, \"#0d0887\"], [0.1111111111111111, \"#46039f\"], [0.2222222222222222, \"#7201a8\"], [0.3333333333333333, \"#9c179e\"], [0.4444444444444444, \"#bd3786\"], [0.5555555555555556, \"#d8576b\"], [0.6666666666666666, \"#ed7953\"], [0.7777777777777778, \"#fb9f3a\"], [0.8888888888888888, \"#fdca26\"], [1.0, \"#f0f921\"]]}, \"colorway\": [\"#636efa\", \"#EF553B\", \"#00cc96\", \"#ab63fa\", \"#FFA15A\", \"#19d3f3\", \"#FF6692\", \"#B6E880\", \"#FF97FF\", \"#FECB52\"], \"font\": {\"color\": \"#2a3f5f\"}, \"geo\": {\"bgcolor\": \"white\", \"lakecolor\": \"white\", \"landcolor\": \"#E5ECF6\", \"showlakes\": true, \"showland\": true, \"subunitcolor\": \"white\"}, \"hoverlabel\": {\"align\": \"left\"}, \"hovermode\": \"closest\", \"mapbox\": {\"style\": \"light\"}, \"paper_bgcolor\": \"white\", \"plot_bgcolor\": \"#E5ECF6\", \"polar\": {\"angularaxis\": {\"gridcolor\": \"white\", \"linecolor\": \"white\", \"ticks\": \"\"}, \"bgcolor\": \"#E5ECF6\", \"radialaxis\": {\"gridcolor\": \"white\", \"linecolor\": \"white\", \"ticks\": \"\"}}, \"scene\": {\"xaxis\": {\"backgroundcolor\": \"#E5ECF6\", \"gridcolor\": \"white\", \"gridwidth\": 2, \"linecolor\": \"white\", \"showbackground\": true, \"ticks\": \"\", \"zerolinecolor\": \"white\"}, \"yaxis\": {\"backgroundcolor\": \"#E5ECF6\", \"gridcolor\": \"white\", \"gridwidth\": 2, \"linecolor\": \"white\", \"showbackground\": true, \"ticks\": \"\", \"zerolinecolor\": \"white\"}, \"zaxis\": {\"backgroundcolor\": \"#E5ECF6\", \"gridcolor\": \"white\", \"gridwidth\": 2, \"linecolor\": \"white\", \"showbackground\": true, \"ticks\": \"\", \"zerolinecolor\": \"white\"}}, \"shapedefaults\": {\"line\": {\"color\": \"#2a3f5f\"}}, \"ternary\": {\"aaxis\": {\"gridcolor\": \"white\", \"linecolor\": \"white\", \"ticks\": \"\"}, \"baxis\": {\"gridcolor\": \"white\", \"linecolor\": \"white\", \"ticks\": \"\"}, \"bgcolor\": \"#E5ECF6\", \"caxis\": {\"gridcolor\": \"white\", \"linecolor\": \"white\", \"ticks\": \"\"}}, \"title\": {\"x\": 0.05}, \"xaxis\": {\"automargin\": true, \"gridcolor\": \"white\", \"linecolor\": \"white\", \"ticks\": \"\", \"title\": {\"standoff\": 15}, \"zerolinecolor\": \"white\", \"zerolinewidth\": 2}, \"yaxis\": {\"automargin\": true, \"gridcolor\": \"white\", \"linecolor\": \"white\", \"ticks\": \"\", \"title\": {\"standoff\": 15}, \"zerolinecolor\": \"white\", \"zerolinewidth\": 2}}}, \"title\": {\"text\": \"CIS Controls status separated by Categories\"}},                        {\"responsive\": true}                    ).then(function(){\n                            \nvar gd = document.getElementById('aa8ea66c-bc7e-47b6-aefb-41eb7beea85e');\nvar x = new MutationObserver(function (mutations, observer) {{\n        var display = window.getComputedStyle(gd).display;\n        if (!display || display === 'none') {{\n            console.log([gd, 'removed!']);\n            Plotly.purge(gd);\n            observer.disconnect();\n        }}\n}});\n\n// Listen for the removal of the full notebook cells\nvar notebookContainer = gd.closest('#notebook-container');\nif (notebookContainer) {{\n    x.observe(notebookContainer, {childList: true});\n}}\n\n// Listen for the clearing of the current output cell\nvar outputEl = gd.closest('.output');\nif (outputEl) {{\n    x.observe(outputEl, {childList: true});\n}}\n\n                        })                };                });            </script>        </div>"
     },
     "metadata": {},
     "output_type": "display_data"
    }
   ],
   "source": [
    "cis_tree_map_categories.show()"
   ],
   "metadata": {
    "collapsed": false,
    "pycharm": {
     "name": "#%%\n"
    }
   }
  },
  {
   "cell_type": "code",
   "execution_count": 33,
   "outputs": [],
   "source": [
    "# save tree map\n",
    "tree_map_location = '../results/'\n",
    "tree_map_file_name = 'cis_treemap.html'\n",
    "cis_tree_map_categories.write_html(os.path.join(tree_map_location,tree_map_file_name))"
   ],
   "metadata": {
    "collapsed": false,
    "pycharm": {
     "name": "#%%\n"
    }
   }
  },
  {
   "cell_type": "code",
   "execution_count": null,
   "outputs": [],
   "source": [],
   "metadata": {
    "collapsed": false,
    "pycharm": {
     "name": "#%%\n"
    }
   }
  }
 ],
 "metadata": {
  "kernelspec": {
   "display_name": "Python 3",
   "language": "python",
   "name": "python3"
  },
  "language_info": {
   "codemirror_mode": {
    "name": "ipython",
    "version": 2
   },
   "file_extension": ".py",
   "mimetype": "text/x-python",
   "name": "python",
   "nbconvert_exporter": "python",
   "pygments_lexer": "ipython2",
   "version": "2.7.6"
  }
 },
 "nbformat": 4,
 "nbformat_minor": 0
}